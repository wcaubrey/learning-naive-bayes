{
 "cells": [
  {
   "cell_type": "code",
   "execution_count": 98,
   "id": "01c44b3e-f32f-4c66-a74b-03f2006f5ccf",
   "metadata": {},
   "outputs": [],
   "source": [
    "%load_ext jupyter_black"
   ]
  },
  {
   "cell_type": "code",
   "execution_count": 63,
   "id": "9fae81f8-d889-496a-9b03-fafd9fc9094b",
   "metadata": {},
   "outputs": [],
   "source": [
    "import polars as pl\n",
    "import math\n"
   ]
  },
  {
   "cell_type": "markdown",
   "id": "d166409b-dd5c-4d6a-8524-7165bc2a6972",
   "metadata": {},
   "source": [
    "# Create sample data, use it to populate a dataframe and define variables for the new data sample"
   ]
  },
  {
   "cell_type": "code",
   "execution_count": 94,
   "id": "21d11ac1-f1b0-4c4f-b2ca-465be3ce49d4",
   "metadata": {},
   "outputs": [],
   "source": [
    "data = {\n",
    "    \"gender\": [\"male\", \"male\", \"male\", \"male\", \"female\", \"female\", \"female\", \"female\"], \n",
    "    \"height\": [6, 5.92, 5.58, 5.92, 5, 5.5, 5.42, 5.75], \n",
    "    \"weight\": [180, 190, 170, 165, 100, 150, 130, 150], \n",
    "    \"foot_size\": [12, 11, 12, 10, 6, 8, 7, 9]\n",
    "}\n",
    "df = pl.DataFrame(\n",
    "    data, \n",
    "    schema={\n",
    "        \"gender\": pl.String, \n",
    "        \"height\": pl.Float64, \n",
    "        \"weight\": pl.Float64, \n",
    "        \"foot_size\": pl.Float64\n",
    "    })\n",
    "\n",
    "new_height = 6\n",
    "new_weight = 130\n",
    "new_foot_size = 8\n"
   ]
  },
  {
   "cell_type": "markdown",
   "id": "c5aeff51-e291-4954-b7aa-040e8cb42668",
   "metadata": {},
   "source": [
    "# Output the sample data dataframe"
   ]
  },
  {
   "cell_type": "code",
   "execution_count": 88,
   "id": "f0c3ffaf-6a19-4573-bf82-17cfad7e0510",
   "metadata": {},
   "outputs": [
    {
     "data": {
      "text/html": [
       "<div><style>\n",
       ".dataframe > thead > tr,\n",
       ".dataframe > tbody > tr {\n",
       "  text-align: right;\n",
       "  white-space: pre-wrap;\n",
       "}\n",
       "</style>\n",
       "<small>shape: (8, 4)</small><table border=\"1\" class=\"dataframe\"><thead><tr><th>gender</th><th>height</th><th>weight</th><th>foot_size</th></tr><tr><td>str</td><td>f64</td><td>f64</td><td>f64</td></tr></thead><tbody><tr><td>&quot;male&quot;</td><td>6.0</td><td>180.0</td><td>12.0</td></tr><tr><td>&quot;male&quot;</td><td>5.92</td><td>190.0</td><td>11.0</td></tr><tr><td>&quot;male&quot;</td><td>5.58</td><td>170.0</td><td>12.0</td></tr><tr><td>&quot;male&quot;</td><td>5.92</td><td>165.0</td><td>10.0</td></tr><tr><td>&quot;female&quot;</td><td>5.0</td><td>100.0</td><td>6.0</td></tr><tr><td>&quot;female&quot;</td><td>5.5</td><td>150.0</td><td>8.0</td></tr><tr><td>&quot;female&quot;</td><td>5.42</td><td>130.0</td><td>7.0</td></tr><tr><td>&quot;female&quot;</td><td>5.75</td><td>150.0</td><td>9.0</td></tr></tbody></table></div>"
      ],
      "text/plain": [
       "shape: (8, 4)\n",
       "┌────────┬────────┬────────┬───────────┐\n",
       "│ gender ┆ height ┆ weight ┆ foot_size │\n",
       "│ ---    ┆ ---    ┆ ---    ┆ ---       │\n",
       "│ str    ┆ f64    ┆ f64    ┆ f64       │\n",
       "╞════════╪════════╪════════╪═══════════╡\n",
       "│ male   ┆ 6.0    ┆ 180.0  ┆ 12.0      │\n",
       "│ male   ┆ 5.92   ┆ 190.0  ┆ 11.0      │\n",
       "│ male   ┆ 5.58   ┆ 170.0  ┆ 12.0      │\n",
       "│ male   ┆ 5.92   ┆ 165.0  ┆ 10.0      │\n",
       "│ female ┆ 5.0    ┆ 100.0  ┆ 6.0       │\n",
       "│ female ┆ 5.5    ┆ 150.0  ┆ 8.0       │\n",
       "│ female ┆ 5.42   ┆ 130.0  ┆ 7.0       │\n",
       "│ female ┆ 5.75   ┆ 150.0  ┆ 9.0       │\n",
       "└────────┴────────┴────────┴───────────┘"
      ]
     },
     "execution_count": 88,
     "metadata": {},
     "output_type": "execute_result"
    }
   ],
   "source": [
    "df"
   ]
  },
  {
   "cell_type": "markdown",
   "id": "384ab1df-c7f4-4c45-b265-df373befbfab",
   "metadata": {},
   "source": [
    "# Calculate the means for males and females and output the result"
   ]
  },
  {
   "cell_type": "code",
   "execution_count": 99,
   "id": "293c1126-5d31-4a47-b4c1-6dfe014d850c",
   "metadata": {},
   "outputs": [
    {
     "data": {
      "text/html": [
       "<div><style>\n",
       ".dataframe > thead > tr,\n",
       ".dataframe > tbody > tr {\n",
       "  text-align: right;\n",
       "  white-space: pre-wrap;\n",
       "}\n",
       "</style>\n",
       "<small>shape: (2, 4)</small><table border=\"1\" class=\"dataframe\"><thead><tr><th>gender</th><th>height</th><th>weight</th><th>foot_size</th></tr><tr><td>str</td><td>f64</td><td>f64</td><td>f64</td></tr></thead><tbody><tr><td>&quot;male&quot;</td><td>5.855</td><td>176.25</td><td>11.25</td></tr><tr><td>&quot;female&quot;</td><td>5.4175</td><td>132.5</td><td>7.5</td></tr></tbody></table></div>"
      ],
      "text/plain": [
       "shape: (2, 4)\n",
       "┌────────┬────────┬────────┬───────────┐\n",
       "│ gender ┆ height ┆ weight ┆ foot_size │\n",
       "│ ---    ┆ ---    ┆ ---    ┆ ---       │\n",
       "│ str    ┆ f64    ┆ f64    ┆ f64       │\n",
       "╞════════╪════════╪════════╪═══════════╡\n",
       "│ male   ┆ 5.855  ┆ 176.25 ┆ 11.25     │\n",
       "│ female ┆ 5.4175 ┆ 132.5  ┆ 7.5       │\n",
       "└────────┴────────┴────────┴───────────┘"
      ]
     },
     "execution_count": 99,
     "metadata": {},
     "output_type": "execute_result"
    }
   ],
   "source": [
    "df_mean = pl.concat(\n",
    "    [\n",
    "        df.filter(pl.col(\"gender\").eq(\"male\"))\n",
    "        .mean()\n",
    "        .with_columns(pl.col(\"gender\").fill_null(\"male\")),\n",
    "        df.filter(pl.col(\"gender\").eq(\"female\"))\n",
    "        .mean()\n",
    "        .with_columns(pl.col(\"gender\").fill_null(\"female\")),\n",
    "    ]\n",
    ")\n",
    "\n",
    "df_mean"
   ]
  },
  {
   "cell_type": "markdown",
   "id": "9d4a402b-206a-4a25-b9da-0bbd6aad62c5",
   "metadata": {},
   "source": [
    "# Join the sample data dataframe to the averages dataframe, rename columns and calculate the square of the difference"
   ]
  },
  {
   "cell_type": "code",
   "execution_count": 100,
   "id": "eb978632-14c6-492d-99ad-5d41e79a63d8",
   "metadata": {},
   "outputs": [
    {
     "data": {
      "text/html": [
       "<div><style>\n",
       ".dataframe > thead > tr,\n",
       ".dataframe > tbody > tr {\n",
       "  text-align: right;\n",
       "  white-space: pre-wrap;\n",
       "}\n",
       "</style>\n",
       "<small>shape: (8, 10)</small><table border=\"1\" class=\"dataframe\"><thead><tr><th>gender</th><th>height</th><th>weight</th><th>foot_size</th><th>height_avg</th><th>weight_avg</th><th>foot_size_avg</th><th>height_sq_diff</th><th>weight_sq_diff</th><th>foot_size_sq_diff</th></tr><tr><td>str</td><td>f64</td><td>f64</td><td>f64</td><td>f64</td><td>f64</td><td>f64</td><td>f64</td><td>f64</td><td>f64</td></tr></thead><tbody><tr><td>&quot;male&quot;</td><td>6.0</td><td>180.0</td><td>12.0</td><td>5.855</td><td>176.25</td><td>11.25</td><td>0.021025</td><td>14.0625</td><td>0.5625</td></tr><tr><td>&quot;male&quot;</td><td>5.92</td><td>190.0</td><td>11.0</td><td>5.855</td><td>176.25</td><td>11.25</td><td>0.004225</td><td>189.0625</td><td>0.0625</td></tr><tr><td>&quot;male&quot;</td><td>5.58</td><td>170.0</td><td>12.0</td><td>5.855</td><td>176.25</td><td>11.25</td><td>0.075625</td><td>39.0625</td><td>0.5625</td></tr><tr><td>&quot;male&quot;</td><td>5.92</td><td>165.0</td><td>10.0</td><td>5.855</td><td>176.25</td><td>11.25</td><td>0.004225</td><td>126.5625</td><td>1.5625</td></tr><tr><td>&quot;female&quot;</td><td>5.0</td><td>100.0</td><td>6.0</td><td>5.4175</td><td>132.5</td><td>7.5</td><td>0.174306</td><td>1056.25</td><td>2.25</td></tr><tr><td>&quot;female&quot;</td><td>5.5</td><td>150.0</td><td>8.0</td><td>5.4175</td><td>132.5</td><td>7.5</td><td>0.006806</td><td>306.25</td><td>0.25</td></tr><tr><td>&quot;female&quot;</td><td>5.42</td><td>130.0</td><td>7.0</td><td>5.4175</td><td>132.5</td><td>7.5</td><td>0.000006</td><td>6.25</td><td>0.25</td></tr><tr><td>&quot;female&quot;</td><td>5.75</td><td>150.0</td><td>9.0</td><td>5.4175</td><td>132.5</td><td>7.5</td><td>0.110556</td><td>306.25</td><td>2.25</td></tr></tbody></table></div>"
      ],
      "text/plain": [
       "shape: (8, 10)\n",
       "┌────────┬────────┬────────┬───────────┬───┬───────────────┬────────────────┬────────────────┬───────────────────┐\n",
       "│ gender ┆ height ┆ weight ┆ foot_size ┆ … ┆ foot_size_avg ┆ height_sq_diff ┆ weight_sq_diff ┆ foot_size_sq_diff │\n",
       "│ ---    ┆ ---    ┆ ---    ┆ ---       ┆   ┆ ---           ┆ ---            ┆ ---            ┆ ---               │\n",
       "│ str    ┆ f64    ┆ f64    ┆ f64       ┆   ┆ f64           ┆ f64            ┆ f64            ┆ f64               │\n",
       "╞════════╪════════╪════════╪═══════════╪═══╪═══════════════╪════════════════╪════════════════╪═══════════════════╡\n",
       "│ male   ┆ 6.0    ┆ 180.0  ┆ 12.0      ┆ … ┆ 11.25         ┆ 0.021025       ┆ 14.0625        ┆ 0.5625            │\n",
       "│ male   ┆ 5.92   ┆ 190.0  ┆ 11.0      ┆ … ┆ 11.25         ┆ 0.004225       ┆ 189.0625       ┆ 0.0625            │\n",
       "│ male   ┆ 5.58   ┆ 170.0  ┆ 12.0      ┆ … ┆ 11.25         ┆ 0.075625       ┆ 39.0625        ┆ 0.5625            │\n",
       "│ male   ┆ 5.92   ┆ 165.0  ┆ 10.0      ┆ … ┆ 11.25         ┆ 0.004225       ┆ 126.5625       ┆ 1.5625            │\n",
       "│ female ┆ 5.0    ┆ 100.0  ┆ 6.0       ┆ … ┆ 7.5           ┆ 0.174306       ┆ 1056.25        ┆ 2.25              │\n",
       "│ female ┆ 5.5    ┆ 150.0  ┆ 8.0       ┆ … ┆ 7.5           ┆ 0.006806       ┆ 306.25         ┆ 0.25              │\n",
       "│ female ┆ 5.42   ┆ 130.0  ┆ 7.0       ┆ … ┆ 7.5           ┆ 0.000006       ┆ 6.25           ┆ 0.25              │\n",
       "│ female ┆ 5.75   ┆ 150.0  ┆ 9.0       ┆ … ┆ 7.5           ┆ 0.110556       ┆ 306.25         ┆ 2.25              │\n",
       "└────────┴────────┴────────┴───────────┴───┴───────────────┴────────────────┴────────────────┴───────────────────┘"
      ]
     },
     "execution_count": 100,
     "metadata": {},
     "output_type": "execute_result"
    }
   ],
   "source": [
    "df_2 = (\n",
    "    df.join(df_mean, on=\"gender\")\n",
    "    .rename(\n",
    "        {\n",
    "            \"height_right\": \"height_avg\",\n",
    "            \"weight_right\": \"weight_avg\",\n",
    "            \"foot_size_right\": \"foot_size_avg\",\n",
    "        }\n",
    "    )\n",
    "    .with_columns(\n",
    "        ((pl.col(\"height\") - pl.col(\"height_avg\")) ** 2).alias(\"height_sq_diff\"),\n",
    "        ((pl.col(\"weight\") - pl.col(\"weight_avg\")) ** 2).alias(\"weight_sq_diff\"),\n",
    "        ((pl.col(\"foot_size\") - pl.col(\"foot_size_avg\")) ** 2).alias(\n",
    "            \"foot_size_sq_diff\"\n",
    "        ),\n",
    "    )\n",
    ")\n",
    "df_2"
   ]
  },
  {
   "cell_type": "markdown",
   "id": "e79ad15d-bbf7-4943-97db-51def002f1d7",
   "metadata": {},
   "source": [
    "# Sum the square of the differences for height, weight and foot size"
   ]
  },
  {
   "cell_type": "code",
   "execution_count": 101,
   "id": "f1ac0552-dc0e-4556-b7b8-c481050795f6",
   "metadata": {},
   "outputs": [
    {
     "data": {
      "text/html": [
       "<div><style>\n",
       ".dataframe > thead > tr,\n",
       ".dataframe > tbody > tr {\n",
       "  text-align: right;\n",
       "  white-space: pre-wrap;\n",
       "}\n",
       "</style>\n",
       "<small>shape: (2, 4)</small><table border=\"1\" class=\"dataframe\"><thead><tr><th>gender</th><th>height_sq_diff_sum</th><th>weight_sq_diff_sum</th><th>foot_size_sq_diff_sum</th></tr><tr><td>str</td><td>f64</td><td>f64</td><td>f64</td></tr></thead><tbody><tr><td>&quot;male&quot;</td><td>0.1051</td><td>368.75</td><td>2.75</td></tr><tr><td>&quot;female&quot;</td><td>0.291675</td><td>1675.0</td><td>5.0</td></tr></tbody></table></div>"
      ],
      "text/plain": [
       "shape: (2, 4)\n",
       "┌────────┬────────────────────┬────────────────────┬───────────────────────┐\n",
       "│ gender ┆ height_sq_diff_sum ┆ weight_sq_diff_sum ┆ foot_size_sq_diff_sum │\n",
       "│ ---    ┆ ---                ┆ ---                ┆ ---                   │\n",
       "│ str    ┆ f64                ┆ f64                ┆ f64                   │\n",
       "╞════════╪════════════════════╪════════════════════╪═══════════════════════╡\n",
       "│ male   ┆ 0.1051             ┆ 368.75             ┆ 2.75                  │\n",
       "│ female ┆ 0.291675           ┆ 1675.0             ┆ 5.0                   │\n",
       "└────────┴────────────────────┴────────────────────┴───────────────────────┘"
      ]
     },
     "execution_count": 101,
     "metadata": {},
     "output_type": "execute_result"
    }
   ],
   "source": [
    "sq_diff_sum = pl.concat(\n",
    "    [\n",
    "        df_2.filter(pl.col(\"gender\").eq(\"male\"))\n",
    "        .sum()\n",
    "        .drop(\n",
    "            [\n",
    "                \"height\",\n",
    "                \"weight\",\n",
    "                \"foot_size\",\n",
    "                \"height_avg\",\n",
    "                \"weight_avg\",\n",
    "                \"foot_size_avg\",\n",
    "            ]\n",
    "        )\n",
    "        .with_columns(pl.col(\"gender\").fill_null(\"male\")),\n",
    "        df_2.filter(pl.col(\"gender\").eq(\"female\"))\n",
    "        .sum()\n",
    "        .drop(\n",
    "            [\n",
    "                \"height\",\n",
    "                \"weight\",\n",
    "                \"foot_size\",\n",
    "                \"height_avg\",\n",
    "                \"weight_avg\",\n",
    "                \"foot_size_avg\",\n",
    "            ]\n",
    "        )\n",
    "        .with_columns(pl.col(\"gender\").fill_null(\"female\")),\n",
    "    ]\n",
    ").rename(\n",
    "    {\n",
    "        \"height_sq_diff\": \"height_sq_diff_sum\",\n",
    "        \"weight_sq_diff\": \"weight_sq_diff_sum\",\n",
    "        \"foot_size_sq_diff\": \"foot_size_sq_diff_sum\",\n",
    "    }\n",
    ")\n",
    "sq_diff_sum"
   ]
  },
  {
   "cell_type": "markdown",
   "id": "7536f837-f03e-468f-b627-8d1e621a3692",
   "metadata": {},
   "source": [
    "# Get the sample sizes"
   ]
  },
  {
   "cell_type": "code",
   "execution_count": 102,
   "id": "7aca69c3-5d7b-476d-aa67-0985564a8beb",
   "metadata": {},
   "outputs": [
    {
     "name": "stdout",
     "output_type": "stream",
     "text": [
      "3\n",
      "3\n"
     ]
    }
   ],
   "source": [
    "count_males = df.filter(pl.col(\"gender\").eq(\"male\")).shape[0] - 1\n",
    "count_females = df.filter(pl.col(\"gender\").eq(\"female\")).shape[0] - 1\n",
    "\n",
    "print(count_males)\n",
    "print(count_females)"
   ]
  },
  {
   "cell_type": "markdown",
   "id": "a6fcb6da-e175-4551-9527-9b605f0859e4",
   "metadata": {},
   "source": [
    "# Calculate the variances for height, weight and foot size and join to the sq_diff_sum dataframe so all the data we need is in one dataframe"
   ]
  },
  {
   "cell_type": "code",
   "execution_count": 103,
   "id": "8fb06e14-99f7-4902-97a1-42da0af87f59",
   "metadata": {},
   "outputs": [
    {
     "data": {
      "text/html": [
       "<div><style>\n",
       ".dataframe > thead > tr,\n",
       ".dataframe > tbody > tr {\n",
       "  text-align: right;\n",
       "  white-space: pre-wrap;\n",
       "}\n",
       "</style>\n",
       "<small>shape: (2, 7)</small><table border=\"1\" class=\"dataframe\"><thead><tr><th>gender</th><th>height_avg</th><th>weight_avg</th><th>foot_size_avg</th><th>height_variance</th><th>weight_variance</th><th>foot_size_variance</th></tr><tr><td>str</td><td>f64</td><td>f64</td><td>f64</td><td>f64</td><td>f64</td><td>f64</td></tr></thead><tbody><tr><td>&quot;male&quot;</td><td>5.855</td><td>176.25</td><td>11.25</td><td>0.035033</td><td>122.916667</td><td>0.916667</td></tr><tr><td>&quot;female&quot;</td><td>5.4175</td><td>132.5</td><td>7.5</td><td>0.097225</td><td>558.333333</td><td>1.666667</td></tr></tbody></table></div>"
      ],
      "text/plain": [
       "shape: (2, 7)\n",
       "┌────────┬────────────┬────────────┬───────────────┬─────────────────┬─────────────────┬────────────────────┐\n",
       "│ gender ┆ height_avg ┆ weight_avg ┆ foot_size_avg ┆ height_variance ┆ weight_variance ┆ foot_size_variance │\n",
       "│ ---    ┆ ---        ┆ ---        ┆ ---           ┆ ---             ┆ ---             ┆ ---                │\n",
       "│ str    ┆ f64        ┆ f64        ┆ f64           ┆ f64             ┆ f64             ┆ f64                │\n",
       "╞════════╪════════════╪════════════╪═══════════════╪═════════════════╪═════════════════╪════════════════════╡\n",
       "│ male   ┆ 5.855      ┆ 176.25     ┆ 11.25         ┆ 0.035033        ┆ 122.916667      ┆ 0.916667           │\n",
       "│ female ┆ 5.4175     ┆ 132.5      ┆ 7.5           ┆ 0.097225        ┆ 558.333333      ┆ 1.666667           │\n",
       "└────────┴────────────┴────────────┴───────────────┴─────────────────┴─────────────────┴────────────────────┘"
      ]
     },
     "execution_count": 103,
     "metadata": {},
     "output_type": "execute_result"
    }
   ],
   "source": [
    "variance_df = sq_diff_sum.join(df_mean, on=\"gender\").select(\n",
    "    pl.col(\"gender\"),\n",
    "    height_avg=pl.col(\"height\"),\n",
    "    weight_avg=pl.col(\"weight\"),\n",
    "    foot_size_avg=pl.col(\"foot_size\"),\n",
    "    height_variance=pl.col(\"height_sq_diff_sum\") / count_males,\n",
    "    weight_variance=pl.col(\"weight_sq_diff_sum\") / count_males,\n",
    "    foot_size_variance=pl.col(\"foot_size_sq_diff_sum\") / count_males,\n",
    ")\n",
    "variance_df"
   ]
  },
  {
   "cell_type": "markdown",
   "id": "e71d36b0-5d11-4347-9081-d5956a14f7a5",
   "metadata": {},
   "source": [
    "# Calculate the probability distribution"
   ]
  },
  {
   "cell_type": "code",
   "execution_count": 104,
   "id": "48a0a886-0e34-4d74-b35c-b6a221a8c7d0",
   "metadata": {},
   "outputs": [
    {
     "data": {
      "text/html": [
       "<div><style>\n",
       ".dataframe > thead > tr,\n",
       ".dataframe > tbody > tr {\n",
       "  text-align: right;\n",
       "  white-space: pre-wrap;\n",
       "}\n",
       "</style>\n",
       "<small>shape: (2, 4)</small><table border=\"1\" class=\"dataframe\"><thead><tr><th>gender</th><th>prob_distribution_height</th><th>prob_distribution_weight</th><th>prob_distribution_foot_size</th></tr><tr><td>str</td><td>f64</td><td>f64</td><td>f64</td></tr></thead><tbody><tr><td>&quot;male&quot;</td><td>1.578883</td><td>0.000006</td><td>0.001311</td></tr><tr><td>&quot;female&quot;</td><td>0.223459</td><td>0.016789</td><td>0.286691</td></tr></tbody></table></div>"
      ],
      "text/plain": [
       "shape: (2, 4)\n",
       "┌────────┬──────────────────────────┬──────────────────────────┬─────────────────────────────┐\n",
       "│ gender ┆ prob_distribution_height ┆ prob_distribution_weight ┆ prob_distribution_foot_size │\n",
       "│ ---    ┆ ---                      ┆ ---                      ┆ ---                         │\n",
       "│ str    ┆ f64                      ┆ f64                      ┆ f64                         │\n",
       "╞════════╪══════════════════════════╪══════════════════════════╪═════════════════════════════╡\n",
       "│ male   ┆ 1.578883                 ┆ 0.000006                 ┆ 0.001311                    │\n",
       "│ female ┆ 0.223459                 ┆ 0.016789                 ┆ 0.286691                    │\n",
       "└────────┴──────────────────────────┴──────────────────────────┴─────────────────────────────┘"
      ]
     },
     "execution_count": 104,
     "metadata": {},
     "output_type": "execute_result"
    }
   ],
   "source": [
    "prob_dist_df = variance_df.select(\n",
    "    pl.col(\"gender\"),\n",
    "    (\n",
    "        1\n",
    "        / ((2 * math.pi * variance_df[\"height_variance\"]) ** 0.5)\n",
    "        * pl.lit(math.e).pow(\n",
    "            (-((new_height - variance_df[\"height_avg\"]) ** 2))\n",
    "            / (2 * variance_df[\"height_variance\"])\n",
    "        )\n",
    "    ).alias(\"prob_distribution_height\"),\n",
    "    (\n",
    "        1\n",
    "        / ((2 * math.pi * variance_df[\"weight_variance\"]) ** 0.5)\n",
    "        * pl.lit(math.e).pow(\n",
    "            (-((new_weight - variance_df[\"weight_avg\"]) ** 2))\n",
    "            / (2 * variance_df[\"weight_variance\"])\n",
    "        )\n",
    "    ).alias(\"prob_distribution_weight\"),\n",
    "    (\n",
    "        1\n",
    "        / ((2 * math.pi * variance_df[\"foot_size_variance\"]) ** 0.5)\n",
    "        * pl.lit(math.e).pow(\n",
    "            (-((new_foot_size - variance_df[\"foot_size_avg\"]) ** 2))\n",
    "            / (2 * variance_df[\"foot_size_variance\"])\n",
    "        )\n",
    "    ).alias(\"prob_distribution_foot_size\"),\n",
    ")\n",
    "prob_dist_df"
   ]
  },
  {
   "cell_type": "markdown",
   "id": "040e6098-cfa2-42d2-91ed-2a9cfe06f142",
   "metadata": {},
   "source": [
    "# Calculate the posterior numerators"
   ]
  },
  {
   "cell_type": "code",
   "execution_count": 105,
   "id": "b3c1ff19-2c8e-48a3-b0cd-632a9683f9f9",
   "metadata": {},
   "outputs": [
    {
     "data": {
      "text/html": [
       "<div><style>\n",
       ".dataframe > thead > tr,\n",
       ".dataframe > tbody > tr {\n",
       "  text-align: right;\n",
       "  white-space: pre-wrap;\n",
       "}\n",
       "</style>\n",
       "<small>shape: (2, 2)</small><table border=\"1\" class=\"dataframe\"><thead><tr><th>gender</th><th>posterior_numerator</th></tr><tr><td>str</td><td>f64</td></tr></thead><tbody><tr><td>&quot;male&quot;</td><td>6.1971e-9</td></tr><tr><td>&quot;female&quot;</td><td>0.000538</td></tr></tbody></table></div>"
      ],
      "text/plain": [
       "shape: (2, 2)\n",
       "┌────────┬─────────────────────┐\n",
       "│ gender ┆ posterior_numerator │\n",
       "│ ---    ┆ ---                 │\n",
       "│ str    ┆ f64                 │\n",
       "╞════════╪═════════════════════╡\n",
       "│ male   ┆ 6.1971e-9           │\n",
       "│ female ┆ 0.000538            │\n",
       "└────────┴─────────────────────┘"
      ]
     },
     "execution_count": 105,
     "metadata": {},
     "output_type": "execute_result"
    }
   ],
   "source": [
    "posterior_numerator_df = prob_dist_df.select(\n",
    "    pl.col(\"gender\"),\n",
    "    (\n",
    "        0.5\n",
    "        * pl.col(\"prob_distribution_height\")\n",
    "        * pl.col(\"prob_distribution_weight\")\n",
    "        * pl.col(\"prob_distribution_foot_size\")\n",
    "    ).alias(\"posterior_numerator\"),\n",
    ")\n",
    "posterior_numerator_df"
   ]
  },
  {
   "cell_type": "markdown",
   "id": "c2940c60-2392-4c4f-8f52-3fc5c6fc1796",
   "metadata": {},
   "source": [
    "# Classify the new data sample"
   ]
  },
  {
   "cell_type": "code",
   "execution_count": 106,
   "id": "54dc5543-9fd6-45c4-9419-4828c3df4b77",
   "metadata": {},
   "outputs": [
    {
     "name": "stdout",
     "output_type": "stream",
     "text": [
      "6.197071843878087e-09 vs 0.0005377909183630024\n",
      "Most likely female\n"
     ]
    }
   ],
   "source": [
    "male_pn = posterior_numerator_df.filter(pl.col(\"gender\").eq(\"male\"))[\n",
    "    \"posterior_numerator\"\n",
    "][0]\n",
    "female_pn = posterior_numerator_df.filter(pl.col(\"gender\").eq(\"female\"))[\n",
    "    \"posterior_numerator\"\n",
    "][0]\n",
    "\n",
    "print(f\"{male_pn} vs {female_pn}\")\n",
    "\n",
    "print(f\"Most likely {'male' if male_pn - female_pn > 0 else 'female'}\")"
   ]
  },
  {
   "cell_type": "code",
   "execution_count": null,
   "id": "47b9cc4b-b51c-4e80-a3ea-4288b649fa24",
   "metadata": {},
   "outputs": [],
   "source": []
  }
 ],
 "metadata": {
  "kernelspec": {
   "display_name": "Python 3 (ipykernel)",
   "language": "python",
   "name": "python3"
  },
  "language_info": {
   "codemirror_mode": {
    "name": "ipython",
    "version": 3
   },
   "file_extension": ".py",
   "mimetype": "text/x-python",
   "name": "python",
   "nbconvert_exporter": "python",
   "pygments_lexer": "ipython3",
   "version": "3.12.7"
  }
 },
 "nbformat": 4,
 "nbformat_minor": 5
}
