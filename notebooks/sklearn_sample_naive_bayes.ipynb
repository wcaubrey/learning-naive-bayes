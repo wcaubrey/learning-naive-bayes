{
 "cells": [
  {
   "cell_type": "markdown",
   "id": "d9876855-2c64-4295-ac5e-f9188afebf64",
   "metadata": {},
   "source": [
    "# Wikipedia example using sklearn"
   ]
  },
  {
   "cell_type": "code",
   "execution_count": 7,
   "id": "ae2145cd-64c8-4ba4-a8dc-9e58c6b699cd",
   "metadata": {},
   "outputs": [
    {
     "name": "stdout",
     "output_type": "stream",
     "text": [
      "The jupyter_black extension is already loaded. To reload it, use:\n",
      "  %reload_ext jupyter_black\n"
     ]
    }
   ],
   "source": [
    "%load_ext jupyter_black"
   ]
  },
  {
   "cell_type": "code",
   "execution_count": 8,
   "id": "e5c80cec-4e54-447c-994f-e53a6eeab84d",
   "metadata": {},
   "outputs": [],
   "source": [
    "import polars as pl\n",
    "import math\n",
    "\n",
    "from sklearn.preprocessing import LabelEncoder\n",
    "from sklearn.model_selection import train_test_split\n",
    "from sklearn.naive_bayes import GaussianNB\n",
    "from sklearn.metrics import accuracy_score"
   ]
  },
  {
   "cell_type": "markdown",
   "id": "69ce0eb2-f73d-4f76-a281-5316cad28d97",
   "metadata": {},
   "source": [
    "### Create sample data, use it to populate a dataframe and define variables for the new data sample\n",
    "This example is from Wikipedia. The example can be found here: https://en.wikipedia.org/wiki/Naive_Bayes_classifier#Examples"
   ]
  },
  {
   "cell_type": "code",
   "execution_count": 9,
   "id": "8b7720d3-a9ac-455e-8b55-6ba731135aa0",
   "metadata": {},
   "outputs": [],
   "source": [
    "data = {\n",
    "    \"gender\": [\"male\", \"male\", \"male\", \"male\", \"female\", \"female\", \"female\", \"female\"],\n",
    "    \"height\": [6, 5.92, 5.58, 5.92, 5, 5.5, 5.42, 5.75],\n",
    "    \"weight\": [180, 190, 170, 165, 100, 150, 130, 150],\n",
    "    \"foot_size\": [12, 11, 12, 10, 6, 8, 7, 9],\n",
    "}\n",
    "df = pl.DataFrame(\n",
    "    data,\n",
    "    schema={\n",
    "        \"gender\": pl.String,\n",
    "        \"height\": pl.Float64,\n",
    "        \"weight\": pl.Float64,\n",
    "        \"foot_size\": pl.Float64,\n",
    "    },\n",
    ")"
   ]
  },
  {
   "cell_type": "markdown",
   "id": "055e49d7-1a22-489c-baf7-c1d95ac68476",
   "metadata": {},
   "source": [
    "# Convert the string column (Gender) to a numeric value\n",
    "We need to assign a numeric value to the gender values for sklearn."
   ]
  },
  {
   "cell_type": "code",
   "execution_count": 22,
   "id": "72d59b54-5c20-4bf8-9710-a361fd1b7cdf",
   "metadata": {},
   "outputs": [
    {
     "data": {
      "text/html": [
       "<div><style>\n",
       ".dataframe > thead > tr,\n",
       ".dataframe > tbody > tr {\n",
       "  text-align: right;\n",
       "  white-space: pre-wrap;\n",
       "}\n",
       "</style>\n",
       "<small>shape: (8, 5)</small><table border=\"1\" class=\"dataframe\"><thead><tr><th>gender</th><th>height</th><th>weight</th><th>foot_size</th><th>gender_num</th></tr><tr><td>str</td><td>f64</td><td>f64</td><td>f64</td><td>i64</td></tr></thead><tbody><tr><td>&quot;male&quot;</td><td>6.0</td><td>180.0</td><td>12.0</td><td>1</td></tr><tr><td>&quot;male&quot;</td><td>5.92</td><td>190.0</td><td>11.0</td><td>1</td></tr><tr><td>&quot;male&quot;</td><td>5.58</td><td>170.0</td><td>12.0</td><td>1</td></tr><tr><td>&quot;male&quot;</td><td>5.92</td><td>165.0</td><td>10.0</td><td>1</td></tr><tr><td>&quot;female&quot;</td><td>5.0</td><td>100.0</td><td>6.0</td><td>0</td></tr><tr><td>&quot;female&quot;</td><td>5.5</td><td>150.0</td><td>8.0</td><td>0</td></tr><tr><td>&quot;female&quot;</td><td>5.42</td><td>130.0</td><td>7.0</td><td>0</td></tr><tr><td>&quot;female&quot;</td><td>5.75</td><td>150.0</td><td>9.0</td><td>0</td></tr></tbody></table></div>"
      ],
      "text/plain": [
       "shape: (8, 5)\n",
       "┌────────┬────────┬────────┬───────────┬────────────┐\n",
       "│ gender ┆ height ┆ weight ┆ foot_size ┆ gender_num │\n",
       "│ ---    ┆ ---    ┆ ---    ┆ ---       ┆ ---        │\n",
       "│ str    ┆ f64    ┆ f64    ┆ f64       ┆ i64        │\n",
       "╞════════╪════════╪════════╪═══════════╪════════════╡\n",
       "│ male   ┆ 6.0    ┆ 180.0  ┆ 12.0      ┆ 1          │\n",
       "│ male   ┆ 5.92   ┆ 190.0  ┆ 11.0      ┆ 1          │\n",
       "│ male   ┆ 5.58   ┆ 170.0  ┆ 12.0      ┆ 1          │\n",
       "│ male   ┆ 5.92   ┆ 165.0  ┆ 10.0      ┆ 1          │\n",
       "│ female ┆ 5.0    ┆ 100.0  ┆ 6.0       ┆ 0          │\n",
       "│ female ┆ 5.5    ┆ 150.0  ┆ 8.0       ┆ 0          │\n",
       "│ female ┆ 5.42   ┆ 130.0  ┆ 7.0       ┆ 0          │\n",
       "│ female ┆ 5.75   ┆ 150.0  ┆ 9.0       ┆ 0          │\n",
       "└────────┴────────┴────────┴───────────┴────────────┘"
      ]
     },
     "execution_count": 22,
     "metadata": {},
     "output_type": "execute_result"
    }
   ],
   "source": [
    "# Use a LabelEncoder\n",
    "# https://scikit-learn.org/stable/modules/generated/sklearn.preprocessing.LabelEncoder.html\n",
    "le = LabelEncoder()\n",
    "\n",
    "# List of columns that need to be assigned numeric values\n",
    "columns_to_encode = [\"gender\"]\n",
    "\n",
    "# Convert values in the columns that should be encoded into encoded values\n",
    "pl_series = [\n",
    "    pl.Series(feature + \"_num\", le.fit_transform(df[feature]))\n",
    "    for feature in columns_to_encode\n",
    "]\n",
    "\n",
    "# Create a new dataframe with the encoded data and the sample data\n",
    "df = df.with_columns(pl_series)\n",
    "df"
   ]
  },
  {
   "cell_type": "markdown",
   "id": "5c216b54-db96-49bc-8c31-326463016155",
   "metadata": {},
   "source": [
    "# Get a mapping between the string and numeric values"
   ]
  },
  {
   "cell_type": "code",
   "execution_count": 23,
   "id": "d962547a-c4a0-4574-8675-918ccef11d5d",
   "metadata": {},
   "outputs": [
    {
     "data": {
      "text/html": [
       "<div><style>\n",
       ".dataframe > thead > tr,\n",
       ".dataframe > tbody > tr {\n",
       "  text-align: right;\n",
       "  white-space: pre-wrap;\n",
       "}\n",
       "</style>\n",
       "<small>shape: (2, 2)</small><table border=\"1\" class=\"dataframe\"><thead><tr><th>gender</th><th>gender_num</th></tr><tr><td>str</td><td>i64</td></tr></thead><tbody><tr><td>&quot;female&quot;</td><td>0</td></tr><tr><td>&quot;male&quot;</td><td>1</td></tr></tbody></table></div>"
      ],
      "text/plain": [
       "shape: (2, 2)\n",
       "┌────────┬────────────┐\n",
       "│ gender ┆ gender_num │\n",
       "│ ---    ┆ ---        │\n",
       "│ str    ┆ i64        │\n",
       "╞════════╪════════════╡\n",
       "│ female ┆ 0          │\n",
       "│ male   ┆ 1          │\n",
       "└────────┴────────────┘"
      ]
     },
     "execution_count": 23,
     "metadata": {},
     "output_type": "execute_result"
    }
   ],
   "source": [
    "gender_mapping = (\n",
    "    df.select(\n",
    "        [\n",
    "            \"gender\",\n",
    "            \"gender_num\",\n",
    "        ]\n",
    "    )\n",
    "    .group_by(\"gender\")\n",
    "    .agg(pl.col(\"gender_num\").first())\n",
    ")\n",
    "gender_mapping"
   ]
  },
  {
   "cell_type": "markdown",
   "id": "0b4bcd8d-dba5-4386-b21e-f0b1d730787a",
   "metadata": {},
   "source": [
    "# Use sklearn to train the classifier and test it\n",
    "1. Initialize, train & test\n",
    "2.  Print the accuracy"
   ]
  },
  {
   "cell_type": "code",
   "execution_count": 38,
   "id": "c99c5a14-2fb2-4995-97d4-59463a1897d7",
   "metadata": {},
   "outputs": [
    {
     "name": "stdout",
     "output_type": "stream",
     "text": [
      "Predicted values: [0 0]\n",
      "Accuracy: 0.0\n"
     ]
    }
   ],
   "source": [
    "# Extract features and labels\n",
    "X = df.drop(\n",
    "    [\n",
    "        \"gender\",\n",
    "        \"gender_num\",\n",
    "    ]\n",
    ")\n",
    "y = df[\"gender_num\"]\n",
    "\n",
    "# Split the dataset into training and testing sets\n",
    "X_train, X_test, y_train, y_test = train_test_split(X, y)\n",
    "\n",
    "# Initialize the Gaussian Naive Bayes classifier\n",
    "gnb = GaussianNB()\n",
    "\n",
    "# Train the model\n",
    "gnb.fit(X_train, y_train)\n",
    "\n",
    "# Predict the labels for the test set\n",
    "y_pred = gnb.predict(X_test)\n",
    "print(f\"Predicted values: {y_pred}\")\n",
    "\n",
    "# Calculate the accuracy\n",
    "accuracy = accuracy_score(y_test, y_pred)\n",
    "print(f\"Accuracy: {accuracy}\")"
   ]
  },
  {
   "cell_type": "markdown",
   "id": "19e51794-4607-4f34-8c9b-ae1941901d62",
   "metadata": {},
   "source": [
    "### Classify the new data sample"
   ]
  },
  {
   "cell_type": "code",
   "execution_count": 39,
   "id": "0f6d2ced-6ac1-473c-8e6f-32e1307cc2fe",
   "metadata": {},
   "outputs": [
    {
     "name": "stdout",
     "output_type": "stream",
     "text": [
      "predicted: shape: (1, 1)\n",
      "┌────────┐\n",
      "│ gender │\n",
      "│ ---    │\n",
      "│ str    │\n",
      "╞════════╡\n",
      "│ female │\n",
      "└────────┘\n"
     ]
    }
   ],
   "source": [
    "# Create a record to classify\n",
    "p1 = {\n",
    "    \"height\": [6],\n",
    "    \"weight\": [130],\n",
    "    \"foot_size\": [8],\n",
    "}\n",
    "df_p1 = pl.DataFrame(\n",
    "    p1,\n",
    "    schema={\n",
    "        # \"gender\": pl.String,\n",
    "        \"height\": pl.Float64,\n",
    "        \"weight\": pl.Float64,\n",
    "        \"foot_size\": pl.Float64,\n",
    "    },\n",
    ")\n",
    "\n",
    "# Classify the record\n",
    "predicted = gnb.predict(df_p1)\n",
    "\n",
    "# Convert the encoded label to the string\n",
    "predicted = gender_mapping.filter(pl.col(\"gender_num\") == predicted).select(\"gender\")\n",
    "print(f\"predicted: {predicted}\")"
   ]
  }
 ],
 "metadata": {
  "kernelspec": {
   "display_name": "Python 3 (ipykernel)",
   "language": "python",
   "name": "python3"
  },
  "language_info": {
   "codemirror_mode": {
    "name": "ipython",
    "version": 3
   },
   "file_extension": ".py",
   "mimetype": "text/x-python",
   "name": "python",
   "nbconvert_exporter": "python",
   "pygments_lexer": "ipython3",
   "version": "3.12.7"
  }
 },
 "nbformat": 4,
 "nbformat_minor": 5
}
