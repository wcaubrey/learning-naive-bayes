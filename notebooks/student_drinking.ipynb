{
 "cells": [
  {
   "cell_type": "markdown",
   "id": "3f3501fc-a401-4d56-8d5a-3471cf926ede",
   "metadata": {},
   "source": [
    "# Use sklearn Gaussian Naive Bayes with a real student dataset\n",
    "\n",
    "Kaggle dataset: https://www.kaggle.com/datasets/uciml/student-alcohol-consumption"
   ]
  },
  {
   "cell_type": "code",
   "execution_count": 1,
   "id": "7509066d-e39e-44ef-a629-ca41315663f5",
   "metadata": {},
   "outputs": [],
   "source": [
    "%load_ext jupyter_black"
   ]
  },
  {
   "cell_type": "code",
   "execution_count": 2,
   "id": "9212556b-fef5-42c6-a207-eef1ceb9dd6b",
   "metadata": {},
   "outputs": [],
   "source": [
    "import polars as pl\n",
    "import math\n",
    "\n",
    "from sklearn.preprocessing import LabelEncoder\n",
    "from sklearn.model_selection import train_test_split\n",
    "from sklearn.naive_bayes import GaussianNB\n",
    "from sklearn.metrics import accuracy_score"
   ]
  },
  {
   "cell_type": "markdown",
   "id": "9162ed65-4730-42ac-bc24-55c87510ff43",
   "metadata": {},
   "source": [
    "### Read the test dataset"
   ]
  },
  {
   "cell_type": "code",
   "execution_count": 3,
   "id": "8ccc85ea-1a60-4c1c-99c1-495fbe1ebbd0",
   "metadata": {},
   "outputs": [
    {
     "data": {
      "text/html": [
       "<div><style>\n",
       ".dataframe > thead > tr,\n",
       ".dataframe > tbody > tr {\n",
       "  text-align: right;\n",
       "  white-space: pre-wrap;\n",
       "}\n",
       "</style>\n",
       "<small>shape: (395, 33)</small><table border=\"1\" class=\"dataframe\"><thead><tr><th>school</th><th>sex</th><th>age</th><th>address</th><th>famsize</th><th>pstatus</th><th>medu</th><th>fedu</th><th>mjob</th><th>fjob</th><th>reason</th><th>guardian</th><th>traveltime</th><th>studytime</th><th>failures</th><th>schoolsup</th><th>famsup</th><th>paid</th><th>activities</th><th>nursery</th><th>higher</th><th>internet</th><th>romantic</th><th>famrel</th><th>freetime</th><th>goout</th><th>dalc</th><th>walc</th><th>health</th><th>absences</th><th>g1</th><th>g2</th><th>g3</th></tr><tr><td>str</td><td>str</td><td>i64</td><td>str</td><td>str</td><td>str</td><td>i64</td><td>i64</td><td>str</td><td>str</td><td>str</td><td>str</td><td>i64</td><td>i64</td><td>i64</td><td>bool</td><td>bool</td><td>bool</td><td>bool</td><td>bool</td><td>bool</td><td>bool</td><td>bool</td><td>i64</td><td>i64</td><td>i64</td><td>i64</td><td>i64</td><td>i64</td><td>i64</td><td>i64</td><td>i64</td><td>i64</td></tr></thead><tbody><tr><td>&quot;GP&quot;</td><td>&quot;F&quot;</td><td>18</td><td>&quot;U&quot;</td><td>&quot;GT3&quot;</td><td>&quot;A&quot;</td><td>4</td><td>4</td><td>&quot;at_home&quot;</td><td>&quot;teacher&quot;</td><td>&quot;course&quot;</td><td>&quot;mother&quot;</td><td>2</td><td>2</td><td>0</td><td>true</td><td>false</td><td>false</td><td>false</td><td>true</td><td>true</td><td>false</td><td>false</td><td>4</td><td>3</td><td>4</td><td>1</td><td>1</td><td>3</td><td>6</td><td>5</td><td>6</td><td>6</td></tr><tr><td>&quot;GP&quot;</td><td>&quot;F&quot;</td><td>17</td><td>&quot;U&quot;</td><td>&quot;GT3&quot;</td><td>&quot;T&quot;</td><td>1</td><td>1</td><td>&quot;at_home&quot;</td><td>&quot;other&quot;</td><td>&quot;course&quot;</td><td>&quot;father&quot;</td><td>1</td><td>2</td><td>0</td><td>false</td><td>true</td><td>false</td><td>false</td><td>false</td><td>true</td><td>true</td><td>false</td><td>5</td><td>3</td><td>3</td><td>1</td><td>1</td><td>3</td><td>4</td><td>5</td><td>5</td><td>6</td></tr><tr><td>&quot;GP&quot;</td><td>&quot;F&quot;</td><td>15</td><td>&quot;U&quot;</td><td>&quot;LE3&quot;</td><td>&quot;T&quot;</td><td>1</td><td>1</td><td>&quot;at_home&quot;</td><td>&quot;other&quot;</td><td>&quot;other&quot;</td><td>&quot;mother&quot;</td><td>1</td><td>2</td><td>3</td><td>true</td><td>false</td><td>true</td><td>false</td><td>true</td><td>true</td><td>true</td><td>false</td><td>4</td><td>3</td><td>2</td><td>2</td><td>3</td><td>3</td><td>10</td><td>7</td><td>8</td><td>10</td></tr><tr><td>&quot;GP&quot;</td><td>&quot;F&quot;</td><td>15</td><td>&quot;U&quot;</td><td>&quot;GT3&quot;</td><td>&quot;T&quot;</td><td>4</td><td>2</td><td>&quot;health&quot;</td><td>&quot;services&quot;</td><td>&quot;home&quot;</td><td>&quot;mother&quot;</td><td>1</td><td>3</td><td>0</td><td>false</td><td>true</td><td>true</td><td>true</td><td>true</td><td>true</td><td>true</td><td>true</td><td>3</td><td>2</td><td>2</td><td>1</td><td>1</td><td>5</td><td>2</td><td>15</td><td>14</td><td>15</td></tr><tr><td>&quot;GP&quot;</td><td>&quot;F&quot;</td><td>16</td><td>&quot;U&quot;</td><td>&quot;GT3&quot;</td><td>&quot;T&quot;</td><td>3</td><td>3</td><td>&quot;other&quot;</td><td>&quot;other&quot;</td><td>&quot;home&quot;</td><td>&quot;father&quot;</td><td>1</td><td>2</td><td>0</td><td>false</td><td>true</td><td>true</td><td>false</td><td>true</td><td>true</td><td>false</td><td>false</td><td>4</td><td>3</td><td>2</td><td>1</td><td>2</td><td>5</td><td>4</td><td>6</td><td>10</td><td>10</td></tr><tr><td>&hellip;</td><td>&hellip;</td><td>&hellip;</td><td>&hellip;</td><td>&hellip;</td><td>&hellip;</td><td>&hellip;</td><td>&hellip;</td><td>&hellip;</td><td>&hellip;</td><td>&hellip;</td><td>&hellip;</td><td>&hellip;</td><td>&hellip;</td><td>&hellip;</td><td>&hellip;</td><td>&hellip;</td><td>&hellip;</td><td>&hellip;</td><td>&hellip;</td><td>&hellip;</td><td>&hellip;</td><td>&hellip;</td><td>&hellip;</td><td>&hellip;</td><td>&hellip;</td><td>&hellip;</td><td>&hellip;</td><td>&hellip;</td><td>&hellip;</td><td>&hellip;</td><td>&hellip;</td><td>&hellip;</td></tr><tr><td>&quot;MS&quot;</td><td>&quot;M&quot;</td><td>20</td><td>&quot;U&quot;</td><td>&quot;LE3&quot;</td><td>&quot;A&quot;</td><td>2</td><td>2</td><td>&quot;services&quot;</td><td>&quot;services&quot;</td><td>&quot;course&quot;</td><td>&quot;other&quot;</td><td>1</td><td>2</td><td>2</td><td>false</td><td>true</td><td>true</td><td>false</td><td>true</td><td>true</td><td>false</td><td>false</td><td>5</td><td>5</td><td>4</td><td>4</td><td>5</td><td>4</td><td>11</td><td>9</td><td>9</td><td>9</td></tr><tr><td>&quot;MS&quot;</td><td>&quot;M&quot;</td><td>17</td><td>&quot;U&quot;</td><td>&quot;LE3&quot;</td><td>&quot;T&quot;</td><td>3</td><td>1</td><td>&quot;services&quot;</td><td>&quot;services&quot;</td><td>&quot;course&quot;</td><td>&quot;mother&quot;</td><td>2</td><td>1</td><td>0</td><td>false</td><td>false</td><td>false</td><td>false</td><td>false</td><td>true</td><td>true</td><td>false</td><td>2</td><td>4</td><td>5</td><td>3</td><td>4</td><td>2</td><td>3</td><td>14</td><td>16</td><td>16</td></tr><tr><td>&quot;MS&quot;</td><td>&quot;M&quot;</td><td>21</td><td>&quot;R&quot;</td><td>&quot;GT3&quot;</td><td>&quot;T&quot;</td><td>1</td><td>1</td><td>&quot;other&quot;</td><td>&quot;other&quot;</td><td>&quot;course&quot;</td><td>&quot;other&quot;</td><td>1</td><td>1</td><td>3</td><td>false</td><td>false</td><td>false</td><td>false</td><td>false</td><td>true</td><td>false</td><td>false</td><td>5</td><td>5</td><td>3</td><td>3</td><td>3</td><td>3</td><td>3</td><td>10</td><td>8</td><td>7</td></tr><tr><td>&quot;MS&quot;</td><td>&quot;M&quot;</td><td>18</td><td>&quot;R&quot;</td><td>&quot;LE3&quot;</td><td>&quot;T&quot;</td><td>3</td><td>2</td><td>&quot;services&quot;</td><td>&quot;other&quot;</td><td>&quot;course&quot;</td><td>&quot;mother&quot;</td><td>3</td><td>1</td><td>0</td><td>false</td><td>false</td><td>false</td><td>false</td><td>false</td><td>true</td><td>true</td><td>false</td><td>4</td><td>4</td><td>1</td><td>3</td><td>4</td><td>5</td><td>0</td><td>11</td><td>12</td><td>10</td></tr><tr><td>&quot;MS&quot;</td><td>&quot;M&quot;</td><td>19</td><td>&quot;U&quot;</td><td>&quot;LE3&quot;</td><td>&quot;T&quot;</td><td>1</td><td>1</td><td>&quot;other&quot;</td><td>&quot;at_home&quot;</td><td>&quot;course&quot;</td><td>&quot;father&quot;</td><td>1</td><td>1</td><td>0</td><td>false</td><td>false</td><td>false</td><td>false</td><td>true</td><td>true</td><td>true</td><td>false</td><td>3</td><td>2</td><td>3</td><td>3</td><td>3</td><td>5</td><td>5</td><td>8</td><td>9</td><td>9</td></tr></tbody></table></div>"
      ],
      "text/plain": [
       "shape: (395, 33)\n",
       "┌────────┬─────┬─────┬─────────┬───┬──────────┬─────┬─────┬─────┐\n",
       "│ school ┆ sex ┆ age ┆ address ┆ … ┆ absences ┆ g1  ┆ g2  ┆ g3  │\n",
       "│ ---    ┆ --- ┆ --- ┆ ---     ┆   ┆ ---      ┆ --- ┆ --- ┆ --- │\n",
       "│ str    ┆ str ┆ i64 ┆ str     ┆   ┆ i64      ┆ i64 ┆ i64 ┆ i64 │\n",
       "╞════════╪═════╪═════╪═════════╪═══╪══════════╪═════╪═════╪═════╡\n",
       "│ GP     ┆ F   ┆ 18  ┆ U       ┆ … ┆ 6        ┆ 5   ┆ 6   ┆ 6   │\n",
       "│ GP     ┆ F   ┆ 17  ┆ U       ┆ … ┆ 4        ┆ 5   ┆ 5   ┆ 6   │\n",
       "│ GP     ┆ F   ┆ 15  ┆ U       ┆ … ┆ 10       ┆ 7   ┆ 8   ┆ 10  │\n",
       "│ GP     ┆ F   ┆ 15  ┆ U       ┆ … ┆ 2        ┆ 15  ┆ 14  ┆ 15  │\n",
       "│ GP     ┆ F   ┆ 16  ┆ U       ┆ … ┆ 4        ┆ 6   ┆ 10  ┆ 10  │\n",
       "│ …      ┆ …   ┆ …   ┆ …       ┆ … ┆ …        ┆ …   ┆ …   ┆ …   │\n",
       "│ MS     ┆ M   ┆ 20  ┆ U       ┆ … ┆ 11       ┆ 9   ┆ 9   ┆ 9   │\n",
       "│ MS     ┆ M   ┆ 17  ┆ U       ┆ … ┆ 3        ┆ 14  ┆ 16  ┆ 16  │\n",
       "│ MS     ┆ M   ┆ 21  ┆ R       ┆ … ┆ 3        ┆ 10  ┆ 8   ┆ 7   │\n",
       "│ MS     ┆ M   ┆ 18  ┆ R       ┆ … ┆ 0        ┆ 11  ┆ 12  ┆ 10  │\n",
       "│ MS     ┆ M   ┆ 19  ┆ U       ┆ … ┆ 5        ┆ 8   ┆ 9   ┆ 9   │\n",
       "└────────┴─────┴─────┴─────────┴───┴──────────┴─────┴─────┴─────┘"
      ]
     },
     "execution_count": 3,
     "metadata": {},
     "output_type": "execute_result"
    }
   ],
   "source": [
    "df = pl.read_csv(\"../data/student_mat.csv\")\n",
    "df"
   ]
  },
  {
   "cell_type": "markdown",
   "id": "e42f63a4-13ff-4fbe-8803-2d4c9bed0900",
   "metadata": {},
   "source": [
    "### Rename some columns to make them more readable"
   ]
  },
  {
   "cell_type": "code",
   "execution_count": 4,
   "id": "933623f7-683b-4bdb-b293-c53a0752436e",
   "metadata": {},
   "outputs": [
    {
     "data": {
      "text/html": [
       "<div><style>\n",
       ".dataframe > thead > tr,\n",
       ".dataframe > tbody > tr {\n",
       "  text-align: right;\n",
       "  white-space: pre-wrap;\n",
       "}\n",
       "</style>\n",
       "<small>shape: (357, 33)</small><table border=\"1\" class=\"dataframe\"><thead><tr><th>school</th><th>gender</th><th>age</th><th>address</th><th>family_size</th><th>parent_cohabit</th><th>mother_education</th><th>father_education</th><th>mother_job</th><th>father_job</th><th>reason</th><th>guardian</th><th>travel_time</th><th>study_time</th><th>num_failures</th><th>extra_school_support</th><th>family_support</th><th>extra_paid_classes</th><th>extra_curricular_activities</th><th>attended_nursery_school</th><th>wants_higher_education</th><th>has_internet</th><th>in_romantic_rel</th><th>family_rel_quality</th><th>free_time_amount</th><th>goes_out_frequency</th><th>weekday_alcohol_consumption_amount</th><th>weekend_alcohol_consumption_amount</th><th>quality_of_health</th><th>absence_count</th><th>g1</th><th>g2</th><th>g3</th></tr><tr><td>str</td><td>str</td><td>i64</td><td>str</td><td>str</td><td>str</td><td>i64</td><td>i64</td><td>str</td><td>str</td><td>str</td><td>str</td><td>i64</td><td>i64</td><td>i64</td><td>bool</td><td>bool</td><td>bool</td><td>bool</td><td>bool</td><td>bool</td><td>bool</td><td>bool</td><td>i64</td><td>i64</td><td>i64</td><td>i64</td><td>i64</td><td>i64</td><td>i64</td><td>i64</td><td>i64</td><td>i64</td></tr></thead><tbody><tr><td>&quot;GP&quot;</td><td>&quot;F&quot;</td><td>18</td><td>&quot;U&quot;</td><td>&quot;GT3&quot;</td><td>&quot;A&quot;</td><td>4</td><td>4</td><td>&quot;at_home&quot;</td><td>&quot;teacher&quot;</td><td>&quot;course&quot;</td><td>&quot;mother&quot;</td><td>2</td><td>2</td><td>0</td><td>true</td><td>false</td><td>false</td><td>false</td><td>true</td><td>true</td><td>false</td><td>false</td><td>4</td><td>3</td><td>4</td><td>1</td><td>1</td><td>3</td><td>6</td><td>5</td><td>6</td><td>6</td></tr><tr><td>&quot;GP&quot;</td><td>&quot;F&quot;</td><td>17</td><td>&quot;U&quot;</td><td>&quot;GT3&quot;</td><td>&quot;T&quot;</td><td>1</td><td>1</td><td>&quot;at_home&quot;</td><td>&quot;other&quot;</td><td>&quot;course&quot;</td><td>&quot;father&quot;</td><td>1</td><td>2</td><td>0</td><td>false</td><td>true</td><td>false</td><td>false</td><td>false</td><td>true</td><td>true</td><td>false</td><td>5</td><td>3</td><td>3</td><td>1</td><td>1</td><td>3</td><td>4</td><td>5</td><td>5</td><td>6</td></tr><tr><td>&quot;GP&quot;</td><td>&quot;F&quot;</td><td>15</td><td>&quot;U&quot;</td><td>&quot;LE3&quot;</td><td>&quot;T&quot;</td><td>1</td><td>1</td><td>&quot;at_home&quot;</td><td>&quot;other&quot;</td><td>&quot;other&quot;</td><td>&quot;mother&quot;</td><td>1</td><td>2</td><td>3</td><td>true</td><td>false</td><td>true</td><td>false</td><td>true</td><td>true</td><td>true</td><td>false</td><td>4</td><td>3</td><td>2</td><td>2</td><td>3</td><td>3</td><td>10</td><td>7</td><td>8</td><td>10</td></tr><tr><td>&quot;GP&quot;</td><td>&quot;F&quot;</td><td>15</td><td>&quot;U&quot;</td><td>&quot;GT3&quot;</td><td>&quot;T&quot;</td><td>4</td><td>2</td><td>&quot;health&quot;</td><td>&quot;services&quot;</td><td>&quot;home&quot;</td><td>&quot;mother&quot;</td><td>1</td><td>3</td><td>0</td><td>false</td><td>true</td><td>true</td><td>true</td><td>true</td><td>true</td><td>true</td><td>true</td><td>3</td><td>2</td><td>2</td><td>1</td><td>1</td><td>5</td><td>2</td><td>15</td><td>14</td><td>15</td></tr><tr><td>&quot;GP&quot;</td><td>&quot;F&quot;</td><td>16</td><td>&quot;U&quot;</td><td>&quot;GT3&quot;</td><td>&quot;T&quot;</td><td>3</td><td>3</td><td>&quot;other&quot;</td><td>&quot;other&quot;</td><td>&quot;home&quot;</td><td>&quot;father&quot;</td><td>1</td><td>2</td><td>0</td><td>false</td><td>true</td><td>true</td><td>false</td><td>true</td><td>true</td><td>false</td><td>false</td><td>4</td><td>3</td><td>2</td><td>1</td><td>2</td><td>5</td><td>4</td><td>6</td><td>10</td><td>10</td></tr><tr><td>&hellip;</td><td>&hellip;</td><td>&hellip;</td><td>&hellip;</td><td>&hellip;</td><td>&hellip;</td><td>&hellip;</td><td>&hellip;</td><td>&hellip;</td><td>&hellip;</td><td>&hellip;</td><td>&hellip;</td><td>&hellip;</td><td>&hellip;</td><td>&hellip;</td><td>&hellip;</td><td>&hellip;</td><td>&hellip;</td><td>&hellip;</td><td>&hellip;</td><td>&hellip;</td><td>&hellip;</td><td>&hellip;</td><td>&hellip;</td><td>&hellip;</td><td>&hellip;</td><td>&hellip;</td><td>&hellip;</td><td>&hellip;</td><td>&hellip;</td><td>&hellip;</td><td>&hellip;</td><td>&hellip;</td></tr><tr><td>&quot;MS&quot;</td><td>&quot;M&quot;</td><td>20</td><td>&quot;U&quot;</td><td>&quot;LE3&quot;</td><td>&quot;A&quot;</td><td>2</td><td>2</td><td>&quot;services&quot;</td><td>&quot;services&quot;</td><td>&quot;course&quot;</td><td>&quot;other&quot;</td><td>1</td><td>2</td><td>2</td><td>false</td><td>true</td><td>true</td><td>false</td><td>true</td><td>true</td><td>false</td><td>false</td><td>5</td><td>5</td><td>4</td><td>4</td><td>5</td><td>4</td><td>11</td><td>9</td><td>9</td><td>9</td></tr><tr><td>&quot;MS&quot;</td><td>&quot;M&quot;</td><td>17</td><td>&quot;U&quot;</td><td>&quot;LE3&quot;</td><td>&quot;T&quot;</td><td>3</td><td>1</td><td>&quot;services&quot;</td><td>&quot;services&quot;</td><td>&quot;course&quot;</td><td>&quot;mother&quot;</td><td>2</td><td>1</td><td>0</td><td>false</td><td>false</td><td>false</td><td>false</td><td>false</td><td>true</td><td>true</td><td>false</td><td>2</td><td>4</td><td>5</td><td>3</td><td>4</td><td>2</td><td>3</td><td>14</td><td>16</td><td>16</td></tr><tr><td>&quot;MS&quot;</td><td>&quot;M&quot;</td><td>21</td><td>&quot;R&quot;</td><td>&quot;GT3&quot;</td><td>&quot;T&quot;</td><td>1</td><td>1</td><td>&quot;other&quot;</td><td>&quot;other&quot;</td><td>&quot;course&quot;</td><td>&quot;other&quot;</td><td>1</td><td>1</td><td>3</td><td>false</td><td>false</td><td>false</td><td>false</td><td>false</td><td>true</td><td>false</td><td>false</td><td>5</td><td>5</td><td>3</td><td>3</td><td>3</td><td>3</td><td>3</td><td>10</td><td>8</td><td>7</td></tr><tr><td>&quot;MS&quot;</td><td>&quot;M&quot;</td><td>18</td><td>&quot;R&quot;</td><td>&quot;LE3&quot;</td><td>&quot;T&quot;</td><td>3</td><td>2</td><td>&quot;services&quot;</td><td>&quot;other&quot;</td><td>&quot;course&quot;</td><td>&quot;mother&quot;</td><td>3</td><td>1</td><td>0</td><td>false</td><td>false</td><td>false</td><td>false</td><td>false</td><td>true</td><td>true</td><td>false</td><td>4</td><td>4</td><td>1</td><td>3</td><td>4</td><td>5</td><td>0</td><td>11</td><td>12</td><td>10</td></tr><tr><td>&quot;MS&quot;</td><td>&quot;M&quot;</td><td>19</td><td>&quot;U&quot;</td><td>&quot;LE3&quot;</td><td>&quot;T&quot;</td><td>1</td><td>1</td><td>&quot;other&quot;</td><td>&quot;at_home&quot;</td><td>&quot;course&quot;</td><td>&quot;father&quot;</td><td>1</td><td>1</td><td>0</td><td>false</td><td>false</td><td>false</td><td>false</td><td>true</td><td>true</td><td>true</td><td>false</td><td>3</td><td>2</td><td>3</td><td>3</td><td>3</td><td>5</td><td>5</td><td>8</td><td>9</td><td>9</td></tr></tbody></table></div>"
      ],
      "text/plain": [
       "shape: (357, 33)\n",
       "┌────────┬────────┬─────┬─────────┬───┬───────────────┬─────┬─────┬─────┐\n",
       "│ school ┆ gender ┆ age ┆ address ┆ … ┆ absence_count ┆ g1  ┆ g2  ┆ g3  │\n",
       "│ ---    ┆ ---    ┆ --- ┆ ---     ┆   ┆ ---           ┆ --- ┆ --- ┆ --- │\n",
       "│ str    ┆ str    ┆ i64 ┆ str     ┆   ┆ i64           ┆ i64 ┆ i64 ┆ i64 │\n",
       "╞════════╪════════╪═════╪═════════╪═══╪═══════════════╪═════╪═════╪═════╡\n",
       "│ GP     ┆ F      ┆ 18  ┆ U       ┆ … ┆ 6             ┆ 5   ┆ 6   ┆ 6   │\n",
       "│ GP     ┆ F      ┆ 17  ┆ U       ┆ … ┆ 4             ┆ 5   ┆ 5   ┆ 6   │\n",
       "│ GP     ┆ F      ┆ 15  ┆ U       ┆ … ┆ 10            ┆ 7   ┆ 8   ┆ 10  │\n",
       "│ GP     ┆ F      ┆ 15  ┆ U       ┆ … ┆ 2             ┆ 15  ┆ 14  ┆ 15  │\n",
       "│ GP     ┆ F      ┆ 16  ┆ U       ┆ … ┆ 4             ┆ 6   ┆ 10  ┆ 10  │\n",
       "│ …      ┆ …      ┆ …   ┆ …       ┆ … ┆ …             ┆ …   ┆ …   ┆ …   │\n",
       "│ MS     ┆ M      ┆ 20  ┆ U       ┆ … ┆ 11            ┆ 9   ┆ 9   ┆ 9   │\n",
       "│ MS     ┆ M      ┆ 17  ┆ U       ┆ … ┆ 3             ┆ 14  ┆ 16  ┆ 16  │\n",
       "│ MS     ┆ M      ┆ 21  ┆ R       ┆ … ┆ 3             ┆ 10  ┆ 8   ┆ 7   │\n",
       "│ MS     ┆ M      ┆ 18  ┆ R       ┆ … ┆ 0             ┆ 11  ┆ 12  ┆ 10  │\n",
       "│ MS     ┆ M      ┆ 19  ┆ U       ┆ … ┆ 5             ┆ 8   ┆ 9   ┆ 9   │\n",
       "└────────┴────────┴─────┴─────────┴───┴───────────────┴─────┴─────┴─────┘"
      ]
     },
     "execution_count": 4,
     "metadata": {},
     "output_type": "execute_result"
    }
   ],
   "source": [
    "df_2 = df.rename(\n",
    "    {\n",
    "        \"sex\": \"gender\",\n",
    "        \"famsize\": \"family_size\",\n",
    "        \"pstatus\": \"parent_cohabit\",\n",
    "        \"medu\": \"mother_education\",\n",
    "        \"fedu\": \"father_education\",\n",
    "        \"mjob\": \"mother_job\",\n",
    "        \"fjob\": \"father_job\",\n",
    "        \"traveltime\": \"travel_time\",\n",
    "        \"studytime\": \"study_time\",\n",
    "        \"failures\": \"num_failures\",\n",
    "        \"schoolsup\": \"extra_school_support\",\n",
    "        \"famsup\": \"family_support\",\n",
    "        \"paid\": \"extra_paid_classes\",\n",
    "        \"activities\": \"extra_curricular_activities\",\n",
    "        \"nursery\": \"attended_nursery_school\",\n",
    "        \"higher\": \"wants_higher_education\",\n",
    "        \"internet\": \"has_internet\",\n",
    "        \"romantic\": \"in_romantic_rel\",\n",
    "        \"famrel\": \"family_rel_quality\",\n",
    "        \"freetime\": \"free_time_amount\",\n",
    "        \"goout\": \"goes_out_frequency\",\n",
    "        \"dalc\": \"weekday_alcohol_consumption_amount\",\n",
    "        \"walc\": \"weekend_alcohol_consumption_amount\",\n",
    "        \"health\": \"quality_of_health\",\n",
    "        \"absences\": \"absence_count\",\n",
    "    }\n",
    ")\n",
    "df_2 = df_2.filter(pl.col(\"g3\") > 0)\n",
    "df_2"
   ]
  },
  {
   "cell_type": "markdown",
   "id": "8c19567d-fa85-46da-815d-79d6d7966267",
   "metadata": {},
   "source": [
    "### Clean up the data a little"
   ]
  },
  {
   "cell_type": "code",
   "execution_count": 5,
   "id": "335d1897-eb22-4440-84b4-4316800c1218",
   "metadata": {},
   "outputs": [
    {
     "data": {
      "text/html": [
       "<div><style>\n",
       ".dataframe > thead > tr,\n",
       ".dataframe > tbody > tr {\n",
       "  text-align: right;\n",
       "  white-space: pre-wrap;\n",
       "}\n",
       "</style>\n",
       "<small>shape: (357, 43)</small><table border=\"1\" class=\"dataframe\"><thead><tr><th>school</th><th>gender</th><th>age</th><th>address</th><th>family_size</th><th>parent_cohabit</th><th>mother_education</th><th>father_education</th><th>mother_job</th><th>father_job</th><th>reason</th><th>guardian</th><th>travel_time</th><th>study_time</th><th>num_failures</th><th>extra_school_support</th><th>family_support</th><th>extra_paid_classes</th><th>extra_curricular_activities</th><th>attended_nursery_school</th><th>wants_higher_education</th><th>has_internet</th><th>in_romantic_rel</th><th>family_rel_quality</th><th>free_time_amount</th><th>goes_out_frequency</th><th>weekday_alcohol_consumption_amount</th><th>weekend_alcohol_consumption_amount</th><th>quality_of_health</th><th>absence_count</th><th>g1</th><th>g2</th><th>g3</th><th>school_num</th><th>gender_num</th><th>address_num</th><th>family_size_num</th><th>parent_cohabit_num</th><th>mother_job_num</th><th>father_job_num</th><th>reason_num</th><th>guardian_num</th><th>absence_category</th></tr><tr><td>str</td><td>str</td><td>i64</td><td>str</td><td>str</td><td>str</td><td>i64</td><td>i64</td><td>str</td><td>str</td><td>str</td><td>str</td><td>i64</td><td>i64</td><td>i64</td><td>bool</td><td>bool</td><td>bool</td><td>bool</td><td>bool</td><td>bool</td><td>bool</td><td>bool</td><td>i64</td><td>i64</td><td>i64</td><td>i64</td><td>i64</td><td>i64</td><td>i64</td><td>i64</td><td>i64</td><td>i64</td><td>i64</td><td>i64</td><td>i64</td><td>i64</td><td>i64</td><td>i64</td><td>i64</td><td>i64</td><td>i64</td><td>i64</td></tr></thead><tbody><tr><td>&quot;GP&quot;</td><td>&quot;F&quot;</td><td>18</td><td>&quot;U&quot;</td><td>&quot;GT3&quot;</td><td>&quot;A&quot;</td><td>4</td><td>4</td><td>&quot;at_home&quot;</td><td>&quot;teacher&quot;</td><td>&quot;course&quot;</td><td>&quot;mother&quot;</td><td>2</td><td>2</td><td>0</td><td>true</td><td>false</td><td>false</td><td>false</td><td>true</td><td>true</td><td>false</td><td>false</td><td>4</td><td>3</td><td>4</td><td>1</td><td>1</td><td>3</td><td>6</td><td>5</td><td>6</td><td>6</td><td>0</td><td>0</td><td>1</td><td>0</td><td>0</td><td>0</td><td>4</td><td>0</td><td>1</td><td>1</td></tr><tr><td>&quot;GP&quot;</td><td>&quot;F&quot;</td><td>17</td><td>&quot;U&quot;</td><td>&quot;GT3&quot;</td><td>&quot;T&quot;</td><td>1</td><td>1</td><td>&quot;at_home&quot;</td><td>&quot;other&quot;</td><td>&quot;course&quot;</td><td>&quot;father&quot;</td><td>1</td><td>2</td><td>0</td><td>false</td><td>true</td><td>false</td><td>false</td><td>false</td><td>true</td><td>true</td><td>false</td><td>5</td><td>3</td><td>3</td><td>1</td><td>1</td><td>3</td><td>4</td><td>5</td><td>5</td><td>6</td><td>0</td><td>0</td><td>1</td><td>0</td><td>1</td><td>0</td><td>2</td><td>0</td><td>0</td><td>0</td></tr><tr><td>&quot;GP&quot;</td><td>&quot;F&quot;</td><td>15</td><td>&quot;U&quot;</td><td>&quot;LE3&quot;</td><td>&quot;T&quot;</td><td>1</td><td>1</td><td>&quot;at_home&quot;</td><td>&quot;other&quot;</td><td>&quot;other&quot;</td><td>&quot;mother&quot;</td><td>1</td><td>2</td><td>3</td><td>true</td><td>false</td><td>true</td><td>false</td><td>true</td><td>true</td><td>true</td><td>false</td><td>4</td><td>3</td><td>2</td><td>2</td><td>3</td><td>3</td><td>10</td><td>7</td><td>8</td><td>10</td><td>0</td><td>0</td><td>1</td><td>1</td><td>1</td><td>0</td><td>2</td><td>2</td><td>1</td><td>1</td></tr><tr><td>&quot;GP&quot;</td><td>&quot;F&quot;</td><td>15</td><td>&quot;U&quot;</td><td>&quot;GT3&quot;</td><td>&quot;T&quot;</td><td>4</td><td>2</td><td>&quot;health&quot;</td><td>&quot;services&quot;</td><td>&quot;home&quot;</td><td>&quot;mother&quot;</td><td>1</td><td>3</td><td>0</td><td>false</td><td>true</td><td>true</td><td>true</td><td>true</td><td>true</td><td>true</td><td>true</td><td>3</td><td>2</td><td>2</td><td>1</td><td>1</td><td>5</td><td>2</td><td>15</td><td>14</td><td>15</td><td>0</td><td>0</td><td>1</td><td>0</td><td>1</td><td>1</td><td>3</td><td>1</td><td>1</td><td>0</td></tr><tr><td>&quot;GP&quot;</td><td>&quot;F&quot;</td><td>16</td><td>&quot;U&quot;</td><td>&quot;GT3&quot;</td><td>&quot;T&quot;</td><td>3</td><td>3</td><td>&quot;other&quot;</td><td>&quot;other&quot;</td><td>&quot;home&quot;</td><td>&quot;father&quot;</td><td>1</td><td>2</td><td>0</td><td>false</td><td>true</td><td>true</td><td>false</td><td>true</td><td>true</td><td>false</td><td>false</td><td>4</td><td>3</td><td>2</td><td>1</td><td>2</td><td>5</td><td>4</td><td>6</td><td>10</td><td>10</td><td>0</td><td>0</td><td>1</td><td>0</td><td>1</td><td>2</td><td>2</td><td>1</td><td>0</td><td>0</td></tr><tr><td>&hellip;</td><td>&hellip;</td><td>&hellip;</td><td>&hellip;</td><td>&hellip;</td><td>&hellip;</td><td>&hellip;</td><td>&hellip;</td><td>&hellip;</td><td>&hellip;</td><td>&hellip;</td><td>&hellip;</td><td>&hellip;</td><td>&hellip;</td><td>&hellip;</td><td>&hellip;</td><td>&hellip;</td><td>&hellip;</td><td>&hellip;</td><td>&hellip;</td><td>&hellip;</td><td>&hellip;</td><td>&hellip;</td><td>&hellip;</td><td>&hellip;</td><td>&hellip;</td><td>&hellip;</td><td>&hellip;</td><td>&hellip;</td><td>&hellip;</td><td>&hellip;</td><td>&hellip;</td><td>&hellip;</td><td>&hellip;</td><td>&hellip;</td><td>&hellip;</td><td>&hellip;</td><td>&hellip;</td><td>&hellip;</td><td>&hellip;</td><td>&hellip;</td><td>&hellip;</td><td>&hellip;</td></tr><tr><td>&quot;MS&quot;</td><td>&quot;M&quot;</td><td>20</td><td>&quot;U&quot;</td><td>&quot;LE3&quot;</td><td>&quot;A&quot;</td><td>2</td><td>2</td><td>&quot;services&quot;</td><td>&quot;services&quot;</td><td>&quot;course&quot;</td><td>&quot;other&quot;</td><td>1</td><td>2</td><td>2</td><td>false</td><td>true</td><td>true</td><td>false</td><td>true</td><td>true</td><td>false</td><td>false</td><td>5</td><td>5</td><td>4</td><td>4</td><td>5</td><td>4</td><td>11</td><td>9</td><td>9</td><td>9</td><td>1</td><td>1</td><td>1</td><td>1</td><td>0</td><td>3</td><td>3</td><td>0</td><td>2</td><td>2</td></tr><tr><td>&quot;MS&quot;</td><td>&quot;M&quot;</td><td>17</td><td>&quot;U&quot;</td><td>&quot;LE3&quot;</td><td>&quot;T&quot;</td><td>3</td><td>1</td><td>&quot;services&quot;</td><td>&quot;services&quot;</td><td>&quot;course&quot;</td><td>&quot;mother&quot;</td><td>2</td><td>1</td><td>0</td><td>false</td><td>false</td><td>false</td><td>false</td><td>false</td><td>true</td><td>true</td><td>false</td><td>2</td><td>4</td><td>5</td><td>3</td><td>4</td><td>2</td><td>3</td><td>14</td><td>16</td><td>16</td><td>1</td><td>1</td><td>1</td><td>1</td><td>1</td><td>3</td><td>3</td><td>0</td><td>1</td><td>0</td></tr><tr><td>&quot;MS&quot;</td><td>&quot;M&quot;</td><td>21</td><td>&quot;R&quot;</td><td>&quot;GT3&quot;</td><td>&quot;T&quot;</td><td>1</td><td>1</td><td>&quot;other&quot;</td><td>&quot;other&quot;</td><td>&quot;course&quot;</td><td>&quot;other&quot;</td><td>1</td><td>1</td><td>3</td><td>false</td><td>false</td><td>false</td><td>false</td><td>false</td><td>true</td><td>false</td><td>false</td><td>5</td><td>5</td><td>3</td><td>3</td><td>3</td><td>3</td><td>3</td><td>10</td><td>8</td><td>7</td><td>1</td><td>1</td><td>0</td><td>0</td><td>1</td><td>2</td><td>2</td><td>0</td><td>2</td><td>0</td></tr><tr><td>&quot;MS&quot;</td><td>&quot;M&quot;</td><td>18</td><td>&quot;R&quot;</td><td>&quot;LE3&quot;</td><td>&quot;T&quot;</td><td>3</td><td>2</td><td>&quot;services&quot;</td><td>&quot;other&quot;</td><td>&quot;course&quot;</td><td>&quot;mother&quot;</td><td>3</td><td>1</td><td>0</td><td>false</td><td>false</td><td>false</td><td>false</td><td>false</td><td>true</td><td>true</td><td>false</td><td>4</td><td>4</td><td>1</td><td>3</td><td>4</td><td>5</td><td>0</td><td>11</td><td>12</td><td>10</td><td>1</td><td>1</td><td>0</td><td>1</td><td>1</td><td>3</td><td>2</td><td>0</td><td>1</td><td>0</td></tr><tr><td>&quot;MS&quot;</td><td>&quot;M&quot;</td><td>19</td><td>&quot;U&quot;</td><td>&quot;LE3&quot;</td><td>&quot;T&quot;</td><td>1</td><td>1</td><td>&quot;other&quot;</td><td>&quot;at_home&quot;</td><td>&quot;course&quot;</td><td>&quot;father&quot;</td><td>1</td><td>1</td><td>0</td><td>false</td><td>false</td><td>false</td><td>false</td><td>true</td><td>true</td><td>true</td><td>false</td><td>3</td><td>2</td><td>3</td><td>3</td><td>3</td><td>5</td><td>5</td><td>8</td><td>9</td><td>9</td><td>1</td><td>1</td><td>1</td><td>1</td><td>1</td><td>2</td><td>0</td><td>0</td><td>0</td><td>0</td></tr></tbody></table></div>"
      ],
      "text/plain": [
       "shape: (357, 43)\n",
       "┌────────┬────────┬─────┬─────────┬───┬────────────────┬────────────┬──────────────┬──────────────────┐\n",
       "│ school ┆ gender ┆ age ┆ address ┆ … ┆ father_job_num ┆ reason_num ┆ guardian_num ┆ absence_category │\n",
       "│ ---    ┆ ---    ┆ --- ┆ ---     ┆   ┆ ---            ┆ ---        ┆ ---          ┆ ---              │\n",
       "│ str    ┆ str    ┆ i64 ┆ str     ┆   ┆ i64            ┆ i64        ┆ i64          ┆ i64              │\n",
       "╞════════╪════════╪═════╪═════════╪═══╪════════════════╪════════════╪══════════════╪══════════════════╡\n",
       "│ GP     ┆ F      ┆ 18  ┆ U       ┆ … ┆ 4              ┆ 0          ┆ 1            ┆ 1                │\n",
       "│ GP     ┆ F      ┆ 17  ┆ U       ┆ … ┆ 2              ┆ 0          ┆ 0            ┆ 0                │\n",
       "│ GP     ┆ F      ┆ 15  ┆ U       ┆ … ┆ 2              ┆ 2          ┆ 1            ┆ 1                │\n",
       "│ GP     ┆ F      ┆ 15  ┆ U       ┆ … ┆ 3              ┆ 1          ┆ 1            ┆ 0                │\n",
       "│ GP     ┆ F      ┆ 16  ┆ U       ┆ … ┆ 2              ┆ 1          ┆ 0            ┆ 0                │\n",
       "│ …      ┆ …      ┆ …   ┆ …       ┆ … ┆ …              ┆ …          ┆ …            ┆ …                │\n",
       "│ MS     ┆ M      ┆ 20  ┆ U       ┆ … ┆ 3              ┆ 0          ┆ 2            ┆ 2                │\n",
       "│ MS     ┆ M      ┆ 17  ┆ U       ┆ … ┆ 3              ┆ 0          ┆ 1            ┆ 0                │\n",
       "│ MS     ┆ M      ┆ 21  ┆ R       ┆ … ┆ 2              ┆ 0          ┆ 2            ┆ 0                │\n",
       "│ MS     ┆ M      ┆ 18  ┆ R       ┆ … ┆ 2              ┆ 0          ┆ 1            ┆ 0                │\n",
       "│ MS     ┆ M      ┆ 19  ┆ U       ┆ … ┆ 0              ┆ 0          ┆ 0            ┆ 0                │\n",
       "└────────┴────────┴─────┴─────────┴───┴────────────────┴────────────┴──────────────┴──────────────────┘"
      ]
     },
     "execution_count": 5,
     "metadata": {},
     "output_type": "execute_result"
    }
   ],
   "source": [
    "# Use a LabelEncoder\n",
    "# https://scikit-learn.org/stable/modules/generated/sklearn.preprocessing.LabelEncoder.html\n",
    "le = LabelEncoder()\n",
    "\n",
    "# List of columns that need to be assigned numeric values\n",
    "columns_to_encode = [\n",
    "    \"school\",\n",
    "    \"gender\",\n",
    "    \"address\",\n",
    "    \"family_size\",\n",
    "    \"parent_cohabit\",\n",
    "    \"mother_job\",\n",
    "    \"father_job\",\n",
    "    \"reason\",\n",
    "    \"guardian\",\n",
    "]\n",
    "\n",
    "# Convert values in the columns that should be encoded into encoded values\n",
    "pl_series = [\n",
    "    pl.Series(feature + \"_num\", le.fit_transform(df_2[feature]))\n",
    "    for feature in columns_to_encode\n",
    "]\n",
    "\n",
    "# Create a new dataframe with the encoded data and the sample data\n",
    "df_3 = df_2.with_columns(pl_series)\n",
    "\n",
    "# Try categorizing absences into a new column\n",
    "df_3 = df_3.with_columns(\n",
    "    pl.when(pl.col(\"absence_count\") <= 5)\n",
    "    .then(0)\n",
    "    .when((pl.col(\"absence_count\") > 5) & (pl.col(\"absence_count\") <= 10))\n",
    "    .then(1)\n",
    "    .when((pl.col(\"absence_count\") > 10) & (pl.col(\"absence_count\") <= 15))\n",
    "    .then(2)\n",
    "    .when((pl.col(\"absence_count\") > 15) & (pl.col(\"absence_count\") <= 20))\n",
    "    .then(3)\n",
    "    .otherwise(4)\n",
    "    .cast(pl.Int64)\n",
    "    .alias(\"absence_category\"),\n",
    ")\n",
    "df_3"
   ]
  },
  {
   "cell_type": "markdown",
   "id": "3aeed581-9724-454d-99c2-5b30b6339100",
   "metadata": {},
   "source": [
    "### # Create a function to do the training and test and return the accuracy so i don't need to copy and paste over and over"
   ]
  },
  {
   "cell_type": "code",
   "execution_count": 6,
   "id": "7faf0906-0ce3-48b2-89bf-8ddb73918a4e",
   "metadata": {},
   "outputs": [],
   "source": [
    "def fit_and_test(\n",
    "    df: pl.DataFrame,\n",
    "    columns_to_drop: list[str],\n",
    "    category_column: str,\n",
    "    log: bool = False,\n",
    "    return_gnb: bool = False,\n",
    ") -> float:\n",
    "    # Extract features and labels\n",
    "    X = df.drop(columns_to_drop)\n",
    "    y = df[category_column]\n",
    "    accuracy_seen = []\n",
    "    count = 100\n",
    "\n",
    "    for i in range(count):\n",
    "        # Split the dataset into training and testing sets\n",
    "        X_train, X_test, y_train, y_test = train_test_split(\n",
    "            X,\n",
    "            y,\n",
    "            test_size=0.05,  # train_size=0.999\n",
    "        )\n",
    "\n",
    "        # Initialize the Gaussian Naive Bayes classifier\n",
    "        gnb = GaussianNB()\n",
    "\n",
    "        # Train the model\n",
    "        gnb.fit(X_train, y_train)\n",
    "\n",
    "        # Predict the labels for the test set\n",
    "        y_pred = gnb.predict(X_test)\n",
    "        if log:\n",
    "            print(f\"Predicted values: {y_pred}\")\n",
    "\n",
    "        # Calculate the accuracy\n",
    "        accuracy = accuracy_score(y_test, y_pred)\n",
    "        # print(f\"Accuracy: {accuracy}\")\n",
    "        accuracy_seen.append(accuracy)\n",
    "\n",
    "    average_accuracy = sum(accuracy_seen) / count\n",
    "    if log:\n",
    "        print(f\"average accuracy: {average_accuracy}\")\n",
    "\n",
    "    if return_gnb:\n",
    "        return (average_accuracy, gnb)\n",
    "    else:\n",
    "        return average_accuracy"
   ]
  },
  {
   "cell_type": "markdown",
   "id": "b7873cef-ca7e-403c-87b6-4cbe17144293",
   "metadata": {},
   "source": [
    "### Check the accuracy when using all data"
   ]
  },
  {
   "cell_type": "code",
   "execution_count": 7,
   "id": "da608c35-d28d-4f85-87d8-d9542c17123e",
   "metadata": {},
   "outputs": [
    {
     "name": "stdout",
     "output_type": "stream",
     "text": [
      "will drop: school\n",
      "will drop: gender\n",
      "will drop: address\n",
      "will drop: family_size\n",
      "will drop: parent_cohabit\n",
      "will drop: mother_job\n",
      "will drop: father_job\n",
      "will drop: reason\n",
      "will drop: guardian\n"
     ]
    },
    {
     "data": {
      "text/plain": [
       "0.21833333333333332"
      ]
     },
     "execution_count": 7,
     "metadata": {},
     "output_type": "execute_result"
    }
   ],
   "source": [
    "columns_to_keep = set()\n",
    "\n",
    "df_3.schema.to_python()\n",
    "for k, v in df_3.schema.to_python().items():\n",
    "    if v != str:\n",
    "        columns_to_keep.add(k)\n",
    "    else:\n",
    "        print(f\"will drop: {k}\")\n",
    "columns_to_drop = (set(df_3.columns) - columns_to_keep) | {\"g3\"}\n",
    "\n",
    "fit_and_test(df_3, columns_to_drop, \"g3\")"
   ]
  },
  {
   "cell_type": "markdown",
   "id": "86592898-e372-467d-84f7-3a62d3a6dc72",
   "metadata": {},
   "source": [
    "### I picked some columns i liked to see how good they are\n",
    "This isn't as good as using the entire dataset"
   ]
  },
  {
   "cell_type": "code",
   "execution_count": 8,
   "id": "8800c0eb-8214-4925-aba7-9bc24f065cb8",
   "metadata": {},
   "outputs": [
    {
     "data": {
      "text/plain": [
       "0.09"
      ]
     },
     "execution_count": 8,
     "metadata": {},
     "output_type": "execute_result"
    }
   ],
   "source": [
    "columns_to_keep = {\n",
    "    \"weekday_alcohol_consumption_amount\",\n",
    "    \"weekend_alcohol_consumption_amount\",\n",
    "    \"quality_of_health\",\n",
    "    \"absence_count\",\n",
    "    \"study_time\",\n",
    "    \"extra_paid_classes_num\",\n",
    "    \"extra_school_support_num\",\n",
    "    \"has_internet_num\",\n",
    "}\n",
    "\n",
    "columns_to_drop = set(df_3.columns) - columns_to_keep\n",
    "\n",
    "fit_and_test(df_3, columns_to_drop, \"g3\")"
   ]
  },
  {
   "cell_type": "markdown",
   "id": "b5c9fd9e-b0ea-44a9-8445-549d94250935",
   "metadata": {},
   "source": [
    "### I tried adding a few more\n",
    "This still isn't as good as using the entire dataset"
   ]
  },
  {
   "cell_type": "code",
   "execution_count": 9,
   "id": "3d803f97-2808-4e77-8fb8-982a39d8ac09",
   "metadata": {},
   "outputs": [
    {
     "data": {
      "text/plain": [
       "0.10833333333333332"
      ]
     },
     "execution_count": 9,
     "metadata": {},
     "output_type": "execute_result"
    }
   ],
   "source": [
    "columns_to_keep = {\n",
    "    \"weekday_alcohol_consumption_amount\",\n",
    "    \"weekend_alcohol_consumption_amount\",\n",
    "    \"quality_of_health\",\n",
    "    \"absence_count\",\n",
    "    \"study_time\",\n",
    "    \"extra_paid_classes_num\",\n",
    "    \"extra_school_support_num\",\n",
    "    \"family_support_num\",\n",
    "    \"has_internet_num\",\n",
    "    \"father_job_num\",\n",
    "    \"mother_job_num\",\n",
    "}\n",
    "\n",
    "columns_to_drop = set(df_3.columns) - columns_to_keep\n",
    "\n",
    "fit_and_test(df_3, columns_to_drop, \"g3\")"
   ]
  },
  {
   "cell_type": "markdown",
   "id": "9a22c3d1-83cd-4596-9003-bfa2e9c5ef72",
   "metadata": {},
   "source": [
    "### Try each column one at a time to see which are best"
   ]
  },
  {
   "cell_type": "code",
   "execution_count": 10,
   "id": "8473bf80-f0f0-43ea-a618-c40bb43a2e89",
   "metadata": {},
   "outputs": [
    {
     "name": "stdout",
     "output_type": "stream",
     "text": [
      "shape: (20, 2)\n",
      "┌─────────────────────────────────┬──────────┐\n",
      "│ category                        ┆ accuracy │\n",
      "│ ---                             ┆ ---      │\n",
      "│ str                             ┆ f64      │\n",
      "╞═════════════════════════════════╪══════════╡\n",
      "│ wants_higher_education          ┆ 0.143333 │\n",
      "│ quality_of_health               ┆ 0.123333 │\n",
      "│ father_education                ┆ 0.116111 │\n",
      "│ absence_count                   ┆ 0.113889 │\n",
      "│ mother_education                ┆ 0.112778 │\n",
      "│ weekend_alcohol_consumption_am… ┆ 0.106111 │\n",
      "│ mother_job_num                  ┆ 0.103889 │\n",
      "│ free_time_amount                ┆ 0.095    │\n",
      "│ goes_out_frequency              ┆ 0.083333 │\n",
      "│ reason_num                      ┆ 0.081667 │\n",
      "│ travel_time                     ┆ 0.074444 │\n",
      "│ guardian_num                    ┆ 0.067778 │\n",
      "│ study_time                      ┆ 0.065556 │\n",
      "│ has_internet                    ┆ 0.063889 │\n",
      "│ school_num                      ┆ 0.063889 │\n",
      "│ absence_category                ┆ 0.057778 │\n",
      "│ extra_school_support            ┆ 0.055    │\n",
      "│ family_rel_quality              ┆ 0.049444 │\n",
      "│ address_num                     ┆ 0.049444 │\n",
      "│ parent_cohabit_num              ┆ 0.048889 │\n",
      "└─────────────────────────────────┴──────────┘\n"
     ]
    }
   ],
   "source": [
    "p1 = {\n",
    "    \"category\": [],\n",
    "    \"accuracy\": [],\n",
    "}\n",
    "\n",
    "all_columns = set(df_3.columns)\n",
    "df_3.schema.to_python()\n",
    "for k, v in df_3.schema.to_python().items():\n",
    "    columns_to_keep = set()\n",
    "    if v != str and k not in {\"g1\", \"g2\", \"g3\"}:\n",
    "        columns_to_keep.add(k)\n",
    "        columns_to_drop = all_columns - columns_to_keep\n",
    "        accuracy = fit_and_test(df_3, columns_to_drop, \"g3\")\n",
    "        p1[\"category\"].append(k)\n",
    "        p1[\"accuracy\"].append(accuracy)\n",
    "\n",
    "df_accuracy = (\n",
    "    pl.DataFrame(\n",
    "        p1,\n",
    "        schema={\n",
    "            \"category\": pl.String,\n",
    "            \"accuracy\": pl.Float64,\n",
    "        },\n",
    "    )\n",
    "    .sort(\"accuracy\")\n",
    "    .top_k(20, by=\"accuracy\")\n",
    ")\n",
    "with pl.Config(tbl_rows=2000):\n",
    "    print(df_accuracy)"
   ]
  },
  {
   "cell_type": "markdown",
   "id": "2400d6a4-9c19-407c-b1f6-80a24f7fadc3",
   "metadata": {},
   "source": [
    "### Now try every combination of two columns"
   ]
  },
  {
   "cell_type": "code",
   "execution_count": 11,
   "id": "7f8a6f45-3835-441d-9e56-69134834f005",
   "metadata": {},
   "outputs": [
    {
     "name": "stdout",
     "output_type": "stream",
     "text": [
      "shape: (20, 3)\n",
      "┌─────────────────────────────────┬─────────────────────────────────┬──────────┐\n",
      "│ category1                       ┆ category2                       ┆ accuracy │\n",
      "│ ---                             ┆ ---                             ┆ ---      │\n",
      "│ str                             ┆ str                             ┆ f64      │\n",
      "╞═════════════════════════════════╪═════════════════════════════════╪══════════╡\n",
      "│ weekend_alcohol_consumption_am… ┆ absence_count                   ┆ 0.169444 │\n",
      "│ weekend_alcohol_consumption_am… ┆ mother_job_num                  ┆ 0.168889 │\n",
      "│ age                             ┆ absence_count                   ┆ 0.163333 │\n",
      "│ free_time_amount                ┆ quality_of_health               ┆ 0.162778 │\n",
      "│ father_education                ┆ absence_count                   ┆ 0.161667 │\n",
      "│ family_rel_quality              ┆ quality_of_health               ┆ 0.161667 │\n",
      "│ family_rel_quality              ┆ free_time_amount                ┆ 0.160556 │\n",
      "│ quality_of_health               ┆ mother_job_num                  ┆ 0.155    │\n",
      "│ free_time_amount                ┆ absence_count                   ┆ 0.154444 │\n",
      "│ goes_out_frequency              ┆ mother_job_num                  ┆ 0.154444 │\n",
      "│ study_time                      ┆ weekend_alcohol_consumption_am… ┆ 0.152778 │\n",
      "│ quality_of_health               ┆ gender_num                      ┆ 0.152222 │\n",
      "│ weekend_alcohol_consumption_am… ┆ reason_num                      ┆ 0.151667 │\n",
      "│ father_education                ┆ reason_num                      ┆ 0.151111 │\n",
      "│ father_education                ┆ quality_of_health               ┆ 0.148889 │\n",
      "│ absence_count                   ┆ father_job_num                  ┆ 0.148889 │\n",
      "│ free_time_amount                ┆ absence_category                ┆ 0.148333 │\n",
      "│ mother_education                ┆ mother_job_num                  ┆ 0.146667 │\n",
      "│ age                             ┆ absence_category                ┆ 0.146111 │\n",
      "│ absence_count                   ┆ reason_num                      ┆ 0.146111 │\n",
      "└─────────────────────────────────┴─────────────────────────────────┴──────────┘\n"
     ]
    }
   ],
   "source": [
    "p1 = {\n",
    "    \"category1\": [],\n",
    "    \"category2\": [],\n",
    "    \"accuracy\": [],\n",
    "}\n",
    "\n",
    "all_columns = set(df_3.columns)\n",
    "name_type_pairs = [(k, v) for k, v in df_3.schema.to_python().items()]\n",
    "for i in range(len(name_type_pairs) - 1):\n",
    "    if name_type_pairs[i][1] != str and name_type_pairs[i][0] not in {\n",
    "        \"g1\",\n",
    "        \"g2\",\n",
    "        \"g3\",\n",
    "    }:\n",
    "        for j in range(i + 1, len(name_type_pairs)):\n",
    "            if name_type_pairs[j][1] != str and name_type_pairs[j][0] not in {\n",
    "                \"g1\",\n",
    "                \"g2\",\n",
    "                \"g3\",\n",
    "            }:\n",
    "                columns_to_keep = {name_type_pairs[i][0], name_type_pairs[j][0]}\n",
    "                columns_to_drop = all_columns - columns_to_keep\n",
    "                accuracy = fit_and_test(df_3, columns_to_drop, \"g3\")\n",
    "                p1[\"category1\"].append(name_type_pairs[i][0])\n",
    "                p1[\"category2\"].append(name_type_pairs[j][0])\n",
    "                p1[\"accuracy\"].append(accuracy)\n",
    "\n",
    "df_accuracy = (\n",
    "    pl.DataFrame(\n",
    "        p1,\n",
    "        schema={\n",
    "            \"category1\": pl.String,\n",
    "            \"category2\": pl.String,\n",
    "            \"accuracy\": pl.Float64,\n",
    "        },\n",
    "    )\n",
    "    .sort(\"accuracy\")\n",
    "    .top_k(20, by=\"accuracy\")\n",
    ")\n",
    "with pl.Config(tbl_rows=2000):\n",
    "    print(df_accuracy)"
   ]
  },
  {
   "cell_type": "markdown",
   "id": "9f8885c4-e04b-4f72-a6e2-a362453bf6b4",
   "metadata": {},
   "source": [
    "### Now try every combination of three columns!"
   ]
  },
  {
   "cell_type": "code",
   "execution_count": 12,
   "id": "f5b2ba1d-5755-40c4-8986-22910f2cb070",
   "metadata": {},
   "outputs": [
    {
     "name": "stdout",
     "output_type": "stream",
     "text": [
      "shape: (20, 4)\n",
      "┌─────────────────────────────────┬─────────────────────────────────┬────────────────────┬──────────┐\n",
      "│ category1                       ┆ category2                       ┆ category3          ┆ accuracy │\n",
      "│ ---                             ┆ ---                             ┆ ---                ┆ ---      │\n",
      "│ str                             ┆ str                             ┆ str                ┆ f64      │\n",
      "╞═════════════════════════════════╪═════════════════════════════════╪════════════════════╪══════════╡\n",
      "│ study_time                      ┆ weekend_alcohol_consumption_am… ┆ absence_count      ┆ 0.182778 │\n",
      "│ family_rel_quality              ┆ weekend_alcohol_consumption_am… ┆ mother_job_num     ┆ 0.18     │\n",
      "│ extra_paid_classes              ┆ weekend_alcohol_consumption_am… ┆ mother_job_num     ┆ 0.172778 │\n",
      "│ father_education                ┆ mother_job_num                  ┆ reason_num         ┆ 0.172222 │\n",
      "│ weekend_alcohol_consumption_am… ┆ mother_job_num                  ┆ reason_num         ┆ 0.172222 │\n",
      "│ mother_education                ┆ absence_count                   ┆ gender_num         ┆ 0.171667 │\n",
      "│ age                             ┆ study_time                      ┆ family_rel_quality ┆ 0.171111 │\n",
      "│ age                             ┆ family_support                  ┆ absence_count      ┆ 0.170556 │\n",
      "│ study_time                      ┆ weekend_alcohol_consumption_am… ┆ reason_num         ┆ 0.17     │\n",
      "│ father_education                ┆ weekend_alcohol_consumption_am… ┆ absence_count      ┆ 0.168333 │\n",
      "│ age                             ┆ goes_out_frequency              ┆ absence_count      ┆ 0.167778 │\n",
      "│ father_education                ┆ goes_out_frequency              ┆ absence_count      ┆ 0.167778 │\n",
      "│ weekend_alcohol_consumption_am… ┆ absence_count                   ┆ gender_num         ┆ 0.166667 │\n",
      "│ father_education                ┆ weekend_alcohol_consumption_am… ┆ quality_of_health  ┆ 0.166667 │\n",
      "│ study_time                      ┆ family_rel_quality              ┆ absence_count      ┆ 0.166667 │\n",
      "│ father_education                ┆ family_support                  ┆ mother_job_num     ┆ 0.166111 │\n",
      "│ mother_job_num                  ┆ reason_num                      ┆ absence_category   ┆ 0.165556 │\n",
      "│ age                             ┆ weekend_alcohol_consumption_am… ┆ absence_count      ┆ 0.165    │\n",
      "│ age                             ┆ absence_count                   ┆ gender_num         ┆ 0.165    │\n",
      "│ study_time                      ┆ weekend_alcohol_consumption_am… ┆ mother_job_num     ┆ 0.164444 │\n",
      "└─────────────────────────────────┴─────────────────────────────────┴────────────────────┴──────────┘\n"
     ]
    }
   ],
   "source": [
    "p1 = {\n",
    "    \"category1\": [],\n",
    "    \"category2\": [],\n",
    "    \"category3\": [],\n",
    "    \"accuracy\": [],\n",
    "}\n",
    "\n",
    "all_columns = set(df_3.columns)\n",
    "name_type_pairs = [(k, v) for k, v in df_3.schema.to_python().items()]\n",
    "for i in range(len(name_type_pairs) - 1):\n",
    "    if name_type_pairs[i][1] != str and name_type_pairs[i][0] not in {\n",
    "        \"g1\",\n",
    "        \"g2\",\n",
    "        \"g3\",\n",
    "    }:\n",
    "        for j in range(i + 1, len(name_type_pairs)):\n",
    "            if name_type_pairs[j][1] != str and name_type_pairs[j][0] not in {\n",
    "                \"g1\",\n",
    "                \"g2\",\n",
    "                \"g3\",\n",
    "            }:\n",
    "                for k in range(j + 1, len(name_type_pairs)):\n",
    "                    if name_type_pairs[k][1] != str and name_type_pairs[k][0] not in {\n",
    "                        \"g1\",\n",
    "                        \"g2\",\n",
    "                        \"g3\",\n",
    "                    }:\n",
    "                        columns_to_keep = {\n",
    "                            name_type_pairs[i][0],\n",
    "                            name_type_pairs[j][0],\n",
    "                            name_type_pairs[k][0],\n",
    "                        }\n",
    "                        columns_to_drop = all_columns - columns_to_keep\n",
    "                        accuracy = fit_and_test(df_3, columns_to_drop, \"g3\")\n",
    "                        p1[\"category1\"].append(name_type_pairs[i][0])\n",
    "                        p1[\"category2\"].append(name_type_pairs[j][0])\n",
    "                        p1[\"category3\"].append(name_type_pairs[k][0])\n",
    "                        p1[\"accuracy\"].append(accuracy)\n",
    "\n",
    "df_accuracy = (\n",
    "    pl.DataFrame(\n",
    "        p1,\n",
    "        schema={\n",
    "            \"category1\": pl.String,\n",
    "            \"category2\": pl.String,\n",
    "            \"category3\": pl.String,\n",
    "            \"accuracy\": pl.Float64,\n",
    "        },\n",
    "    )\n",
    "    .sort(\"accuracy\")\n",
    "    .top_k(20, by=\"accuracy\")\n",
    ")\n",
    "with pl.Config(tbl_rows=2000):\n",
    "    print(df_accuracy)"
   ]
  },
  {
   "cell_type": "markdown",
   "id": "2684bf47-a1e2-41f3-b6cc-460e7b49b0a1",
   "metadata": {},
   "source": [
    "### Now try every combination of four columns!!"
   ]
  },
  {
   "cell_type": "code",
   "execution_count": 13,
   "id": "6b369ec1-4a39-4cdd-9534-608369df9c79",
   "metadata": {},
   "outputs": [
    {
     "name": "stdout",
     "output_type": "stream",
     "text": [
      "shape: (20, 5)\n",
      "┌────────────────────┬─────────────────────────────────┬─────────────────────────────────┬────────────────┬──────────┐\n",
      "│ category1          ┆ category2                       ┆ category3                       ┆ category4      ┆ accuracy │\n",
      "│ ---                ┆ ---                             ┆ ---                             ┆ ---            ┆ ---      │\n",
      "│ str                ┆ str                             ┆ str                             ┆ str            ┆ f64      │\n",
      "╞════════════════════╪═════════════════════════════════╪═════════════════════════════════╪════════════════╪══════════╡\n",
      "│ father_education   ┆ family_rel_quality              ┆ weekend_alcohol_consumption_am… ┆ absence_count  ┆ 0.185556 │\n",
      "│ mother_education   ┆ father_education                ┆ weekend_alcohol_consumption_am… ┆ absence_count  ┆ 0.183889 │\n",
      "│ father_education   ┆ study_time                      ┆ mother_job_num                  ┆ reason_num     ┆ 0.181667 │\n",
      "│ family_rel_quality ┆ weekend_alcohol_consumption_am… ┆ mother_job_num                  ┆ reason_num     ┆ 0.176111 │\n",
      "│ study_time         ┆ weekend_alcohol_consumption_am… ┆ absence_count                   ┆ reason_num     ┆ 0.173889 │\n",
      "│ age                ┆ weekend_alcohol_consumption_am… ┆ absence_count                   ┆ gender_num     ┆ 0.173333 │\n",
      "│ father_education   ┆ study_time                      ┆ weekend_alcohol_consumption_am… ┆ absence_count  ┆ 0.173333 │\n",
      "│ father_education   ┆ goes_out_frequency              ┆ absence_count                   ┆ address_num    ┆ 0.172778 │\n",
      "│ extra_paid_classes ┆ weekend_alcohol_consumption_am… ┆ mother_job_num                  ┆ father_job_num ┆ 0.172778 │\n",
      "│ father_education   ┆ weekend_alcohol_consumption_am… ┆ absence_count                   ┆ gender_num     ┆ 0.171667 │\n",
      "│ age                ┆ extra_paid_classes              ┆ absence_count                   ┆ father_job_num ┆ 0.170556 │\n",
      "│ age                ┆ goes_out_frequency              ┆ weekend_alcohol_consumption_am… ┆ absence_count  ┆ 0.170556 │\n",
      "│ age                ┆ weekend_alcohol_consumption_am… ┆ absence_count                   ┆ reason_num     ┆ 0.170556 │\n",
      "│ father_education   ┆ study_time                      ┆ extra_paid_classes              ┆ mother_job_num ┆ 0.170556 │\n",
      "│ family_support     ┆ goes_out_frequency              ┆ weekend_alcohol_consumption_am… ┆ absence_count  ┆ 0.170556 │\n",
      "│ father_education   ┆ study_time                      ┆ goes_out_frequency              ┆ absence_count  ┆ 0.17     │\n",
      "│ father_education   ┆ extra_curricular_activities     ┆ weekend_alcohol_consumption_am… ┆ absence_count  ┆ 0.17     │\n",
      "│ family_rel_quality ┆ weekend_alcohol_consumption_am… ┆ quality_of_health               ┆ reason_num     ┆ 0.169444 │\n",
      "│ age                ┆ weekend_alcohol_consumption_am… ┆ mother_job_num                  ┆ reason_num     ┆ 0.169444 │\n",
      "│ mother_education   ┆ weekend_alcohol_consumption_am… ┆ absence_count                   ┆ reason_num     ┆ 0.169444 │\n",
      "└────────────────────┴─────────────────────────────────┴─────────────────────────────────┴────────────────┴──────────┘\n"
     ]
    }
   ],
   "source": [
    "p1 = {\n",
    "    \"category1\": [],\n",
    "    \"category2\": [],\n",
    "    \"category3\": [],\n",
    "    \"category4\": [],\n",
    "    \"accuracy\": [],\n",
    "}\n",
    "\n",
    "all_columns = set(df_3.columns)\n",
    "name_type_pairs = [(k, v) for k, v in df_3.schema.to_python().items()]\n",
    "for i in range(len(name_type_pairs) - 1):\n",
    "    if name_type_pairs[i][1] != str and name_type_pairs[i][0] not in {\n",
    "        \"g1\",\n",
    "        \"g2\",\n",
    "        \"g3\",\n",
    "    }:\n",
    "        for j in range(i + 1, len(name_type_pairs)):\n",
    "            if name_type_pairs[j][1] != str and name_type_pairs[j][0] not in {\n",
    "                \"g1\",\n",
    "                \"g2\",\n",
    "                \"g3\",\n",
    "            }:\n",
    "                for k in range(j + 1, len(name_type_pairs)):\n",
    "                    if name_type_pairs[k][1] != str and name_type_pairs[k][0] not in {\n",
    "                        \"g1\",\n",
    "                        \"g2\",\n",
    "                        \"g3\",\n",
    "                    }:\n",
    "                        for l in range(k + 1, len(name_type_pairs)):\n",
    "                            if name_type_pairs[l][1] != str and name_type_pairs[l][\n",
    "                                0\n",
    "                            ] not in {\n",
    "                                \"g1\",\n",
    "                                \"g2\",\n",
    "                                \"g3\",\n",
    "                            }:\n",
    "                                columns_to_keep = {\n",
    "                                    name_type_pairs[i][0],\n",
    "                                    name_type_pairs[j][0],\n",
    "                                    name_type_pairs[k][0],\n",
    "                                    name_type_pairs[l][0],\n",
    "                                }\n",
    "                                columns_to_drop = all_columns - columns_to_keep\n",
    "                                accuracy = fit_and_test(df_3, columns_to_drop, \"g3\")\n",
    "                                p1[\"category1\"].append(name_type_pairs[i][0])\n",
    "                                p1[\"category2\"].append(name_type_pairs[j][0])\n",
    "                                p1[\"category3\"].append(name_type_pairs[k][0])\n",
    "                                p1[\"category4\"].append(name_type_pairs[l][0])\n",
    "                                p1[\"accuracy\"].append(accuracy)\n",
    "\n",
    "df_accuracy = (\n",
    "    pl.DataFrame(\n",
    "        p1,\n",
    "        schema={\n",
    "            \"category1\": pl.String,\n",
    "            \"category2\": pl.String,\n",
    "            \"category3\": pl.String,\n",
    "            \"category4\": pl.String,\n",
    "            \"accuracy\": pl.Float64,\n",
    "        },\n",
    "    )\n",
    "    .sort(\"accuracy\")\n",
    "    .top_k(20, by=\"accuracy\")\n",
    ")\n",
    "with pl.Config(tbl_rows=2000):\n",
    "    print(df_accuracy)"
   ]
  }
 ],
 "metadata": {
  "kernelspec": {
   "display_name": "Python 3 (ipykernel)",
   "language": "python",
   "name": "python3"
  },
  "language_info": {
   "codemirror_mode": {
    "name": "ipython",
    "version": 3
   },
   "file_extension": ".py",
   "mimetype": "text/x-python",
   "name": "python",
   "nbconvert_exporter": "python",
   "pygments_lexer": "ipython3",
   "version": "3.12.7"
  }
 },
 "nbformat": 4,
 "nbformat_minor": 5
}
